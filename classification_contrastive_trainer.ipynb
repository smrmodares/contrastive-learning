{
  "cells": [
    {
      "cell_type": "markdown",
      "source": [
        "#Import and setup"
      ],
      "metadata": {
        "id": "8FFLDoxA3P2g"
      },
      "id": "8FFLDoxA3P2g"
    },
    {
      "cell_type": "code",
      "execution_count": null,
      "id": "955011f4",
      "metadata": {
        "id": "955011f4"
      },
      "outputs": [],
      "source": [
        "from IPython.display import clear_output"
      ]
    },
    {
      "cell_type": "code",
      "execution_count": null,
      "id": "f5c8dbbb",
      "metadata": {
        "id": "f5c8dbbb"
      },
      "outputs": [],
      "source": [
        "# !pip install datasets transformers torchmetrics evaluate\n",
        "# !pip install --upgrade accelerate\n",
        "# !pip install umap-learn\n",
        "# clear_output()"
      ]
    },
    {
      "cell_type": "code",
      "execution_count": null,
      "id": "858b300f",
      "metadata": {
        "id": "858b300f"
      },
      "outputs": [],
      "source": [
        "import torch\n",
        "from torch import matmul, exp, log, abs\n",
        "import torch.nn as nn\n",
        "from torch.utils.data import DataLoader\n",
        "import plotly.express as px\n",
        "from IPython.display import clear_output\n",
        "from tqdm.notebook import tqdm\n",
        "import matplotlib.pyplot as plt\n",
        "from transformers import AutoTokenizer, AutoModelForSequenceClassification, AutoModel, BertModel, ElectraModel, set_seed\n",
        "from transformers import TrainingArguments, Trainer\n",
        "from transformers import DataCollatorWithPadding\n",
        "from transformers.modeling_outputs import TokenClassifierOutput, SequenceClassifierOutput\n",
        "from transformers import AdamW,get_scheduler\n",
        "\n",
        "from datasets import load_metric, load_dataset\n",
        "import umap\n",
        "import random\n",
        "import numpy as np\n",
        "import evaluate"
      ]
    },
    {
      "cell_type": "code",
      "execution_count": null,
      "id": "eb574ec8",
      "metadata": {
        "id": "eb574ec8"
      },
      "outputs": [],
      "source": [
        "device = 'cuda' if torch.cuda.is_available() else 'cpu'"
      ]
    },
    {
      "cell_type": "code",
      "execution_count": null,
      "id": "4a539faf",
      "metadata": {
        "id": "4a539faf"
      },
      "outputs": [],
      "source": [
        "# Setting seed\n",
        "SEED = 42\n",
        "\n",
        "random.seed(SEED)\n",
        "np.random.seed(SEED)\n",
        "torch.manual_seed(SEED)\n",
        "torch.cuda.manual_seed(SEED)\n",
        "torch.backends.cudnn.deterministic = True\n",
        "\n",
        "set_seed(seed = SEED)"
      ]
    },
    {
      "cell_type": "code",
      "execution_count": null,
      "id": "1cdf78b7",
      "metadata": {
        "id": "1cdf78b7"
      },
      "outputs": [],
      "source": [
        "# language model hyper parameters\n",
        "batch_size = 16\n",
        "epochs = 10\n",
        "lr = 5e-5\n",
        "weight_decay = 0.1\n",
        "tau = 50\n",
        "alpha = 0.3"
      ]
    },
    {
      "cell_type": "markdown",
      "id": "bbfba19a",
      "metadata": {
        "id": "bbfba19a"
      },
      "source": [
        "# Dataset"
      ]
    },
    {
      "cell_type": "code",
      "source": [
        "dataset_name = 'go_emotions'"
      ],
      "metadata": {
        "id": "XV8uKO153_Zt"
      },
      "id": "XV8uKO153_Zt",
      "execution_count": null,
      "outputs": []
    },
    {
      "cell_type": "code",
      "execution_count": null,
      "id": "2477f0ec",
      "metadata": {
        "id": "2477f0ec"
      },
      "outputs": [],
      "source": [
        "if dataset_name == 'sst2':\n",
        "    dataset = load_dataset('sst2')\n",
        "    num_labels = 2\n",
        "elif dataset_name == 'sst2_aug':\n",
        "    dataset = load_dataset(\"gokuls/glue_augmented_sst2\")\n",
        "    num_labels = 2\n",
        "elif dataset_name == 'sst5':\n",
        "    dataset = load_dataset('SetFit/sst5')\n",
        "    num_labels = 5\n",
        "elif dataset_name == 'imdb':\n",
        "    dataset = load_dataset('imdb')\n",
        "    num_labels = 2\n",
        "elif dataset_name == 'ag_news':\n",
        "    dataset = load_dataset(\"ag_news\")\n",
        "    num_abels = 4\n",
        "elif dataset_name == 'go_emotions':\n",
        "    dataset = load_dataset(\"go_emotions\", \"simplified\")\n",
        "    num_labels = 27\n",
        "clear_output()"
      ]
    },
    {
      "cell_type": "code",
      "execution_count": null,
      "id": "36d655dd",
      "metadata": {
        "id": "36d655dd",
        "colab": {
          "base_uri": "https://localhost:8080/"
        },
        "outputId": "47f3e375-c493-4dd2-85bf-c5c84eda0751"
      },
      "outputs": [
        {
          "output_type": "stream",
          "name": "stderr",
          "text": [
            "WARNING:datasets.arrow_dataset:Loading cached shuffled indices for dataset at /root/.cache/huggingface/datasets/go_emotions/simplified/0.0.0/2637cfdd4e64d30249c3ed2150fa2b9d279766bfcd6a809b9f085c61a90d776d/cache-2fa9c494c6fe487d.arrow\n"
          ]
        }
      ],
      "source": [
        "train_dataset = dataset[\"train\"].shuffle(seed=42)\n",
        "# train_dataset = t['train'].select([i for i in list(range(1000))])\n",
        "# eval_dataset = t['test'].select([i for i in list(range(300))])"
      ]
    },
    {
      "cell_type": "code",
      "execution_count": null,
      "id": "7a370418",
      "metadata": {
        "colab": {
          "base_uri": "https://localhost:8080/"
        },
        "id": "7a370418",
        "outputId": "4f53cefa-b732-4a1c-835a-9442b670030d"
      },
      "outputs": [
        {
          "output_type": "execute_result",
          "data": {
            "text/plain": [
              "DatasetDict({\n",
              "    train: Dataset({\n",
              "        features: ['text', 'labels', 'id'],\n",
              "        num_rows: 43410\n",
              "    })\n",
              "    validation: Dataset({\n",
              "        features: ['text', 'labels', 'id'],\n",
              "        num_rows: 5426\n",
              "    })\n",
              "    test: Dataset({\n",
              "        features: ['text', 'labels', 'id'],\n",
              "        num_rows: 5427\n",
              "    })\n",
              "})"
            ]
          },
          "metadata": {},
          "execution_count": 10
        }
      ],
      "source": [
        "dataset"
      ]
    },
    {
      "cell_type": "markdown",
      "source": [
        "# Contrastive Loss functions"
      ],
      "metadata": {
        "id": "gIkK6FrYNP3A"
      },
      "id": "gIkK6FrYNP3A"
    },
    {
      "cell_type": "code",
      "source": [
        "def no_pos_in_denomenaor_loss(logits, labels):\n",
        "    '''\n",
        "    Here logits have the shpae [batch_size, num_toekens, 768]\n",
        "    and labels is a vector of target labels.\n",
        "    '''\n",
        "    # normalizing hyper parameter\n",
        "    t = tau\n",
        "\n",
        "    # Initilize\n",
        "    loss = 0\n",
        "\n",
        "    # Take the mean of all the tokens in a sentence except [CLS]\n",
        "    mean_representations = torch.mean(logits[:, 1:-1, :], axis=1)\n",
        "\n",
        "    # for each mean representation\n",
        "    for i, repr in enumerate(mean_representations):\n",
        "        positives = []\n",
        "        negatives = []\n",
        "\n",
        "        # find negative and positive set\n",
        "        for j in range(len(labels)):\n",
        "\n",
        "            # if i and j have different labels then they are negative\n",
        "            if labels[i] != labels[j]:\n",
        "                negatives.append(mean_representations[j].tolist())\n",
        "\n",
        "            # else if they have the same labels and i should not be in it's positive set\n",
        "            elif i != j:\n",
        "                positives.append(mean_representations[j].tolist())\n",
        "\n",
        "        #if positive set is empty loss would be zero !!!!!!!\n",
        "        if len(positives) != 0:\n",
        "              positives = torch.tensor(positives).to(device)\n",
        "              negatives = torch.tensor(negatives).to(device)\n",
        "\n",
        "              # sigma on positive set\n",
        "              pos_sum = torch.sum(torch.exp((positives @ repr) / t))\n",
        "\n",
        "              # sigma on negative set\n",
        "              neg_sum = torch.sum(torch.exp((negatives @ repr) / t))\n",
        "\n",
        "              loss += -torch.log(pos_sum/neg_sum)\n",
        "\n",
        "    return loss if loss > 0 else torch.tensor(0.0, dtype=torch.float32, device='cuda:0', requires_grad=True)\n"
      ],
      "metadata": {
        "id": "Oak_tf2RFRbx"
      },
      "id": "Oak_tf2RFRbx",
      "execution_count": null,
      "outputs": []
    },
    {
      "cell_type": "code",
      "source": [
        "def SCL(logits, labels):\n",
        "  t = tau\n",
        "\n",
        "  loss = 0\n",
        "\n",
        "  mean_logits = torch.mean(logits[:, 1:-1, :], axis=1)\n",
        "\n",
        "  for i, logit in enumerate(mean_logits):\n",
        "\n",
        "    positives = [mean_logits[j].tolist() for j in range(len(labels)) if not j == i and labels[i] == labels[j]]\n",
        "\n",
        "    if len(positives) != 0:\n",
        "      positives = torch.tensor(positives).to(device)\n",
        "      others = torch.cat((mean_logits[0:i], mean_logits[i+1:]))\n",
        "\n",
        "      others_sum = torch.sum(torch.exp((others @ logit) / t))\n",
        "      pos_sum = torch.sum(torch.log(torch.exp((positives @ logit) / t) / others_sum))\n",
        "      loss += -pos_sum/len(positives)\n",
        "\n",
        "  return loss if loss != 0 else torch.tensor(0.0, dtype=torch.float32, device='cuda:0', requires_grad=True)"
      ],
      "metadata": {
        "id": "KWSJJk3dVFH9"
      },
      "id": "KWSJJk3dVFH9",
      "execution_count": null,
      "outputs": []
    },
    {
      "cell_type": "code",
      "source": [
        "def LCL(reps, w, labels):\n",
        "  # t = 0.07\n",
        "  loss = 0\n",
        "  w = nn.functional.softmax(w, dim=1)[range(labels.shape[0]), labels]\n",
        "  # mean_reps = torch.mean(reps[:, 1:-1, :], axis=1)\n",
        "  mean_reps = reps[:, 0, :]\n",
        "\n",
        "  for i, rep in enumerate(mean_reps):\n",
        "    # loss -= torch.log(logit[labels[i]])\n",
        "    positives = [mean_reps[j].tolist() for j in range(len(labels)) if not j == i and labels[i] == labels[j]]\n",
        "    p_w = [w[j].tolist() for j in range(len(labels)) if not j == i and labels[i] == labels[j]]\n",
        "\n",
        "    if len(positives) != 0:\n",
        "      positives = torch.tensor(positives).to(device)\n",
        "      p_w = torch.tensor(p_w).to(device)\n",
        "      others = torch.cat((mean_reps[0:i], mean_reps[i+1:]))\n",
        "      o_w = torch.cat((w[0:i], w[i+1:]))\n",
        "\n",
        "      others_sum = torch.sum(o_w * torch.exp((others @ rep) / t))\n",
        "      pos_sum = torch.sum(p_w * torch.log(torch.exp((positives @ rep) / t) / others_sum))\n",
        "      loss += -pos_sum/len(positives)\n",
        "\n",
        "  return loss if loss != 0 else torch.tensor(0.0, dtype=torch.float32, device='cuda:0', requires_grad=True)\n"
      ],
      "metadata": {
        "id": "mh2LAGCQILHW"
      },
      "id": "mh2LAGCQILHW",
      "execution_count": null,
      "outputs": []
    },
    {
      "cell_type": "markdown",
      "source": [
        "# Trainer Classes"
      ],
      "metadata": {
        "id": "ofQoSqLeNgdE"
      },
      "id": "ofQoSqLeNgdE"
    },
    {
      "cell_type": "code",
      "source": [
        "class JointTrainer(Trainer):\n",
        "    '''\n",
        "    Try to train model and classifier jointly\n",
        "    '''\n",
        "\n",
        "    def compute_loss(self, model, inputs, return_outputs=False):\n",
        "        LM = model.electra\n",
        "        classifier = model.classifier\n",
        "        labels = inputs.pop(\"labels\")\n",
        "        # outs = model(**inputs)\n",
        "        # print(outs)\n",
        "        # print(outs.size())\n",
        "        #forward pass\n",
        "        outputs = LM(**inputs)\n",
        "        logits = outputs[0]\n",
        "        # print(outputs)\n",
        "        # compute contrastive loss with representations\n",
        "        contrastive_loss = no_pos_in_denomenaor_loss(logits, labels)\n",
        "        # print(logits.size())\n",
        "\n",
        "        logits = classifier(logits)\n",
        "\n",
        "        # compute loss\n",
        "        loss_fn = nn.CrossEntropyLoss()\n",
        "\n",
        "        classifier_loss = loss_fn(logits, labels)\n",
        "        loss = torch.max(torch.tensor(0), alpha*classifier_loss + (1-alpha)*contrastive_loss)\n",
        "        outputs = logits\n",
        "        # print(outputs)\n",
        "        # print(outputs.size())\n",
        "        return  (loss, outputs) if return_outputs else loss\n",
        "\n"
      ],
      "metadata": {
        "id": "tZsTUH9wpzLu"
      },
      "id": "tZsTUH9wpzLu",
      "execution_count": null,
      "outputs": []
    },
    {
      "cell_type": "code",
      "source": [
        "class MyTrainer(Trainer):\n",
        "    '''\n",
        "        Use the Trainer class but only change its compute_loss function\n",
        "        to use contrastive loss.\n",
        "    '''\n",
        "\n",
        "    def compute_loss(self, model, inputs, return_outputs=False):\n",
        "        labels = inputs.pop(\"labels\")\n",
        "        outputs = model(**inputs)\n",
        "        logits = outputs[0]\n",
        "        loss = no_pos_in_denomenaor_loss(logits, labels)\n",
        "        return  (loss, outputs) if return_outputs else loss"
      ],
      "metadata": {
        "id": "MqSBYlQKNakQ"
      },
      "id": "MqSBYlQKNakQ",
      "execution_count": null,
      "outputs": []
    },
    {
      "cell_type": "markdown",
      "source": [
        "# Models"
      ],
      "metadata": {
        "id": "1gT3QzBM_ml-"
      },
      "id": "1gT3QzBM_ml-"
    },
    {
      "cell_type": "code",
      "source": [
        "class LMClassifierHead_v0(nn.Module):\n",
        "    '''\n",
        "    Add classifier head to the language model\n",
        "    '''\n",
        "    def __init__(self,model,num_labels):\n",
        "        super(LMClassifierHead,self).__init__()\n",
        "        self.num_labels = num_labels\n",
        "\n",
        "        #Load Model with given checkpoint and extract its body\n",
        "        self.model = model\n",
        "\n",
        "        self.dropout = torch.nn.Dropout(0.3, inplace=False)\n",
        "        self.dense = torch.nn.Linear(in_features=768, out_features=768, bias=True)\n",
        "        self.out_proj = torch.nn.Linear(in_features=768, out_features=num_labels, bias=True)\n",
        "        self.act = torch.nn.Tanh()\n",
        "\n",
        "    def forward(self, input_ids=None, attention_mask=None,labels=None):\n",
        "        #Extract outputs from the body\n",
        "        print('here')\n",
        "        outputs = self.model(input_ids=input_ids, attention_mask=attention_mask)\n",
        "        print('there')\n",
        "        #Add custom layers\n",
        "        x = self.dropout(outputs[0]) # Outputs[0] = last_hidden_state\n",
        "        x = self.dense(torch.mean(x[:, 1:-1, :], axis=1).view(-1,768)) # Take the mean\n",
        "        x = self.act(x)\n",
        "        x = self.dropout(x)\n",
        "        logits = self.out_proj(x) # get logits (prediction for each class)\n",
        "\n",
        "        # calculate loss\n",
        "        loss = None\n",
        "        if labels is not None:\n",
        "            loss_fct = torch.nn.CrossEntropyLoss()\n",
        "            loss = loss_fct(logits.view(-1, self.num_labels), labels.view(-1))\n",
        "\n",
        "        return TokenClassifierOutput(loss=loss, logits=logits, hidden_states=outputs.hidden_states,attentions=outputs.attentions)"
      ],
      "metadata": {
        "id": "CB5qK-98a18v"
      },
      "id": "CB5qK-98a18v",
      "execution_count": null,
      "outputs": []
    },
    {
      "cell_type": "code",
      "source": [
        "class LMClassifierHead(nn.Module):\n",
        "    '''\n",
        "    Add classifier head to the language model\n",
        "    '''\n",
        "    def __init__(self,model,num_labels):\n",
        "        super(LMClassifierHead,self).__init__()\n",
        "        self.num_labels = num_labels\n",
        "\n",
        "        #Load Model with given checkpoint and extract its body\n",
        "        self.model = model\n",
        "\n",
        "        self.dropout = torch.nn.Dropout(0.1)\n",
        "        self.dense = torch.nn.Linear(in_features=768, out_features=768)\n",
        "        self.out_proj = torch.nn.Linear(in_features=768, out_features=num_labels)\n",
        "        self.act = torch.nn.ReLU() #try lakey 0.1\n",
        "        self.classifier = torch.nn.Linear(768,2048) # load and initialize weights\n",
        "        self.mid = nn.Linear(2048, 2048)\n",
        "        self.linear = torch.nn.Linear(2048,768)\n",
        "\n",
        "    def forward(self, input_ids=None, attention_mask=None,labels=None):\n",
        "        #Extract outputs from the body\n",
        "        outputs = self.model(input_ids=input_ids, attention_mask=attention_mask)\n",
        "\n",
        "\n",
        "        sequence_output = self.dropout(outputs[0])\n",
        "        logits = self.act(self.classifier(torch.mean(sequence_output[:, 1:-1, :], axis=1).view(-1,768))) # calculate losses\n",
        "        logits = self.act(self.linear(logits))\n",
        "        logits = self.out_proj(logits)\n",
        "\n",
        "        loss = None\n",
        "        if labels is not None:\n",
        "            loss_fct = torch.nn.CrossEntropyLoss()\n",
        "            loss = loss_fct(logits.view(-1, self.num_labels), labels.view(-1))\n",
        "\n",
        "        return TokenClassifierOutput(loss=loss, logits=logits, hidden_states=outputs.hidden_states,attentions=outputs.attentions)"
      ],
      "metadata": {
        "id": "QLVV-GpvH4sz"
      },
      "id": "QLVV-GpvH4sz",
      "execution_count": null,
      "outputs": []
    },
    {
      "cell_type": "code",
      "source": [
        "class LCLModel(nn.Module):\n",
        "  def __init__(self, rep_model, weight_model, num_labels, alpha):\n",
        "    super(LCLModel,self).__init__()\n",
        "    self.num_labels = num_labels\n",
        "\n",
        "    #Load Model with given checkpoint and extract its body\n",
        "    self.rep_model = rep_model\n",
        "    self.weight_model = weight_model\n",
        "    self.dropout = torch.nn.Dropout(0.1)\n",
        "    self.weight_classifier = torch.nn.Linear(num_labels, num_labels)\n",
        "    self.classifier = torch.nn.Linear(768,num_labels) # load and initialize weights\n",
        "    self.layer = torch.nn.Linear(768,768)\n",
        "  def forward(self, input_ids=None, attention_mask=None,labels=None):\n",
        "    #Extract outputs from the body\n",
        "    reps = self.rep_model(input_ids=input_ids, attention_mask=attention_mask)\n",
        "    w = self.weight_model(input_ids=input_ids, attention_mask=attention_mask)\n",
        "\n",
        "    lcl = LCL(reps[0], w[0], labels)\n",
        "    #Add custom layers\n",
        "\n",
        "\n",
        "    sequence_output = self.dropout(w[0]) #outputs[0]=last hidden state\n",
        "    logits = self.weight_classifier(sequence_output.view(-1, self.num_labels)) # calculate losses\n",
        "    Lw = None\n",
        "    if labels is not None:\n",
        "      loss_fct = torch.nn.CrossEntropyLoss()\n",
        "      Lw = loss_fct(logits.view(-1, self.num_labels), labels.view(-1))\n",
        "\n",
        "\n",
        "    sequence_output = self.dropout(reps[0]) #outputs[0]=last hidden state\n",
        "    x= self.layer(sequence_output[:,0,:].view(-1,768))\n",
        "    act = nn.functional.relu(x)\n",
        "    logits = self.classifier(act)\n",
        "    # logits = self.classifier(sequence_output[:,0,:].view(-1,768)) # calculate losses\n",
        "    Le = None\n",
        "    if labels is not None:\n",
        "      loss_fct = torch.nn.CrossEntropyLoss()\n",
        "      Le = loss_fct(logits.view(-1, self.num_labels), labels.view(-1))\n",
        "\n",
        "    return TokenClassifierOutput(loss=alpha*(Le + Lw) + (1-alpha) * lcl, logits=logits, hidden_states=reps.hidden_states,attentions=reps.attentions)"
      ],
      "metadata": {
        "id": "lQuZB9lcI1js"
      },
      "id": "lQuZB9lcI1js",
      "execution_count": null,
      "outputs": []
    },
    {
      "cell_type": "code",
      "source": [
        "class SCLModel(nn.Module):\n",
        "  def __init__(self, rep_model, num_labels):\n",
        "    super(SCLModel,self).__init__()\n",
        "    self.num_labels = num_labels\n",
        "\n",
        "    #Load Model with given checkpoint and extract its body\n",
        "    self.rep_model = rep_model\n",
        "    self.dropout = torch.nn.Dropout(0.1)\n",
        "    self.classifier = torch.nn.Linear(768,num_labels) # load and initialize weights\n",
        "    self.layer = torch.nn.Linear(768,768)\n",
        "\n",
        "  def forward(self, input_ids=None, attention_mask=None,labels=None):\n",
        "    #Extract outputs from the body\n",
        "    reps = self.rep_model(input_ids=input_ids, attention_mask=attention_mask)\n",
        "    scl = SCL(reps[0], labels)\n",
        "    #Add custom layers\n",
        "\n",
        "    sequence_output = self.dropout(reps[0]) #outputs[0]=last hidden state\n",
        "    x = self.layer(sequence_output[:,0,:].view(-1,768))\n",
        "    act = nn.functional.relu(x)\n",
        "    logits = self.classifier(act)\n",
        "    # logits = self.classifier(sequence_output[:,0,:].view(-1,768)) # calculate losses\n",
        "    Le = None\n",
        "    if labels is not None:\n",
        "      loss_fct = torch.nn.CrossEntropyLoss()\n",
        "      Le = loss_fct(logits.view(-1, self.num_labels), labels.view(-1))\n",
        "\n",
        "    return TokenClassifierOutput(loss=alpha*Le + (1-alpha) * scl, logits=logits, hidden_states=reps.hidden_states,attentions=reps.attentions)"
      ],
      "metadata": {
        "id": "r5klwUUq_ko9"
      },
      "id": "r5klwUUq_ko9",
      "execution_count": null,
      "outputs": []
    },
    {
      "cell_type": "markdown",
      "source": [
        "# Loading and tokenizing"
      ],
      "metadata": {
        "id": "0eKV8Ls578OJ"
      },
      "id": "0eKV8Ls578OJ"
    },
    {
      "cell_type": "code",
      "source": [],
      "metadata": {
        "id": "UskcYBcNJeot"
      },
      "id": "UskcYBcNJeot",
      "execution_count": null,
      "outputs": []
    },
    {
      "cell_type": "code",
      "source": [
        "# import numpy as np\n",
        "# import umap\n",
        "# import matplotlib.pyplot as plt\n",
        "# from transformers import ElectraTokenizer, ElectraForSequenceClassification\n",
        "# from datasets import load_dataset\n",
        "\n",
        "# # Load the ELECTRA model and tokenizer\n",
        "# model_name = \"google/electra-small-discriminator\"\n",
        "# model = ElectraForSequenceClassification.from_pretrained(model_name)\n",
        "# tokenizer = ElectraTokenizer.from_pretrained(model_name)\n",
        "\n",
        "# # Load the SST-5 dataset\n",
        "# dataset = load_dataset('glue', 'sst2')\n",
        "\n",
        "# # Get the embeddings for all sentences in the dataset\n",
        "# sentences = dataset['train']['sentence']\n",
        "# embeddings = []\n",
        "# for sentence in tqdm(sentences):\n",
        "#     encoded = tokenizer.encode_plus(sentence, return_tensors='pt')\n",
        "#     with torch.no_grad():\n",
        "#         output = model(**encoded, output_hidden_states=True)\n",
        "#         hidden_states = output.hidden_states\n",
        "#         embeddings.append(hidden_states[-1][0][0].numpy())\n",
        "\n",
        "# # Apply UMAP to the embeddings to obtain a 2D projection\n",
        "# umap_embeddings = umap.UMAP(n_neighbors=5, min_dist=0.3).fit_transform(embeddings)\n",
        "\n",
        "# # Plot the UMAP projection\n",
        "# plt.scatter(umap_embeddings[:, 0], umap_embeddings[:, 1], c=dataset['train']['label'])\n",
        "# plt.colorbar()\n",
        "# plt.show()"
      ],
      "metadata": {
        "id": "gL2-olU_JYvF"
      },
      "id": "gL2-olU_JYvF",
      "execution_count": null,
      "outputs": []
    },
    {
      "cell_type": "code",
      "source": [
        "# lcl_model = LCLModel(rep_model=lcl_rep_model, weight_model=weight_model,num_labels=num_labels).to(device)\n"
      ],
      "metadata": {
        "id": "YV-4LtH3JLnh"
      },
      "id": "YV-4LtH3JLnh",
      "execution_count": null,
      "outputs": []
    },
    {
      "cell_type": "code",
      "execution_count": null,
      "id": "37f6dd6d",
      "metadata": {
        "id": "37f6dd6d"
      },
      "outputs": [],
      "source": [
        "checkpoint = \"google/electra-base-discriminator\"\n",
        "# checkpoint = 'TehranNLP-org/electra-base-sst2'\n",
        "tokenizer = AutoTokenizer.from_pretrained(checkpoint)\n",
        "model = AutoModelForSequenceClassification.from_pretrained(checkpoint, num_labels=num_labels).to(device)\n",
        "clear_output()"
      ]
    },
    {
      "cell_type": "code",
      "source": [
        "dataset"
      ],
      "metadata": {
        "colab": {
          "base_uri": "https://localhost:8080/"
        },
        "id": "eWf2N-CgO4og",
        "outputId": "4314d109-2887-4a28-8ac3-fe94260f5432"
      },
      "id": "eWf2N-CgO4og",
      "execution_count": null,
      "outputs": [
        {
          "output_type": "execute_result",
          "data": {
            "text/plain": [
              "DatasetDict({\n",
              "    train: Dataset({\n",
              "        features: ['text', 'labels', 'id'],\n",
              "        num_rows: 43410\n",
              "    })\n",
              "    validation: Dataset({\n",
              "        features: ['text', 'labels', 'id'],\n",
              "        num_rows: 5426\n",
              "    })\n",
              "    test: Dataset({\n",
              "        features: ['text', 'labels', 'id'],\n",
              "        num_rows: 5427\n",
              "    })\n",
              "})"
            ]
          },
          "metadata": {},
          "execution_count": 23
        }
      ]
    },
    {
      "cell_type": "code",
      "execution_count": null,
      "id": "a8d5371e",
      "metadata": {
        "id": "a8d5371e"
      },
      "outputs": [],
      "source": [
        "def filter_func(example):\n",
        "    return len(example[\"labels\"]) == 1 and example[\"labels\"][0] != 27\n",
        "\n",
        "def tokenize_function(example):\n",
        "    example['labels'] = list(map(lambda x: x[0], example['labels']))\n",
        "    example['label'] = example.pop('labels')\n",
        "    return tokenizer(example[\"text\"], truncation=True)\n",
        "\n",
        "tokenized_train = dataset['train'].shuffle(seed=SEED).select([i for i in list(range(8000))]).filter(filter_func).map(tokenize_function, batched=True)\n",
        "tokenized_valid = dataset['validation'].filter(filter_func).map(tokenize_function, batched=True)\n",
        "tokenized_test = dataset['test'].filter(filter_func).map(tokenize_function, batched=True)\n",
        "\n",
        "clear_output()"
      ]
    },
    {
      "cell_type": "code",
      "source": [
        "tokenized_train.set_format(\"torch\",columns=[\"input_ids\", \"attention_mask\", \"label\"])\n",
        "tokenized_valid.set_format(\"torch\",columns=[\"input_ids\", \"attention_mask\", \"label\"])\n",
        "tokenized_test.set_format(\"torch\",columns=[\"input_ids\", \"attention_mask\", \"label\"])"
      ],
      "metadata": {
        "id": "zO6jnxdB8Vmq"
      },
      "id": "zO6jnxdB8Vmq",
      "execution_count": null,
      "outputs": []
    },
    {
      "cell_type": "code",
      "source": [
        "data_collator = DataCollatorWithPadding(tokenizer=tokenizer)"
      ],
      "metadata": {
        "id": "ct-Ebgls8j7V"
      },
      "id": "ct-Ebgls8j7V",
      "execution_count": null,
      "outputs": []
    },
    {
      "cell_type": "markdown",
      "id": "a7fa408e",
      "metadata": {
        "id": "a7fa408e"
      },
      "source": [
        "# Training with trainer"
      ]
    },
    {
      "cell_type": "code",
      "execution_count": null,
      "id": "8f97455d",
      "metadata": {
        "id": "8f97455d"
      },
      "outputs": [],
      "source": [
        "torch.cuda.empty_cache()"
      ]
    },
    {
      "cell_type": "code",
      "execution_count": null,
      "id": "681999b1",
      "metadata": {
        "id": "681999b1"
      },
      "outputs": [],
      "source": [
        "metric = evaluate.load(\"accuracy\")\n",
        "\n",
        "def compute_metrics(eval_pred):\n",
        "\n",
        "    logits, labels = eval_pred\n",
        "    predictions = np.argmax(logits, axis=-1)\n",
        "    # print(logits.shape, labels.shape)\n",
        "    return metric.compute(predictions=predictions, references=labels)"
      ]
    },
    {
      "cell_type": "code",
      "execution_count": null,
      "id": "25a6265b",
      "metadata": {
        "id": "25a6265b"
      },
      "outputs": [],
      "source": [
        "training_args = TrainingArguments(\n",
        "    output_dir=\"test_trainer\",\n",
        "    # learning_rate=lr,\n",
        "    # weight_decay=weight_decay,\n",
        "    # optim = \"adamw_torch\",\n",
        "    per_device_train_batch_size=batch_size,\n",
        "    per_device_eval_batch_size = batch_size,\n",
        "    num_train_epochs=epochs,\n",
        "    warmup_steps=2000,\n",
        "    # evaluation_strategy='steps',\n",
        "    save_strategy=\"steps\",\n",
        "    logging_steps=64,\n",
        "    save_steps=512,\n",
        "    overwrite_output_dir=True,\n",
        "    save_total_limit=10,\n",
        ")\n",
        "\n",
        "trainer = Trainer(\n",
        "    model= model,\n",
        "    args=training_args,\n",
        "    train_dataset=tokenized_train,\n",
        "    eval_dataset= tokenized_valid,\n",
        "    # compute_metrics=compute_metrics,\n",
        "    data_collator=data_collator,\n",
        "    tokenizer=tokenizer,\n",
        ")"
      ]
    },
    {
      "cell_type": "code",
      "execution_count": null,
      "id": "c38de19c",
      "metadata": {
        "id": "c38de19c",
        "colab": {
          "base_uri": "https://localhost:8080/",
          "height": 1000
        },
        "outputId": "be5b6748-eecc-4e29-e506-8701c3ba13ea"
      },
      "outputs": [
        {
          "output_type": "stream",
          "name": "stderr",
          "text": [
            "/usr/local/lib/python3.10/dist-packages/transformers/optimization.py:411: FutureWarning: This implementation of AdamW is deprecated and will be removed in a future version. Use the PyTorch implementation torch.optim.AdamW instead, or set `no_deprecation_warning=True` to disable this warning\n",
            "  warnings.warn(\n",
            "You're using a ElectraTokenizerFast tokenizer. Please note that with a fast tokenizer, using the `__call__` method is faster than using a method to encode the text followed by a call to the `pad` method to get a padded encoding.\n"
          ]
        },
        {
          "output_type": "display_data",
          "data": {
            "text/plain": [
              "<IPython.core.display.HTML object>"
            ],
            "text/html": [
              "\n",
              "    <div>\n",
              "      \n",
              "      <progress value='2700' max='2700' style='width:300px; height:20px; vertical-align: middle;'></progress>\n",
              "      [2700/2700 06:14, Epoch 10/10]\n",
              "    </div>\n",
              "    <table border=\"1\" class=\"dataframe\">\n",
              "  <thead>\n",
              " <tr style=\"text-align: left;\">\n",
              "      <th>Step</th>\n",
              "      <th>Training Loss</th>\n",
              "    </tr>\n",
              "  </thead>\n",
              "  <tbody>\n",
              "    <tr>\n",
              "      <td>64</td>\n",
              "      <td>3.295000</td>\n",
              "    </tr>\n",
              "    <tr>\n",
              "      <td>128</td>\n",
              "      <td>3.271300</td>\n",
              "    </tr>\n",
              "    <tr>\n",
              "      <td>192</td>\n",
              "      <td>3.230700</td>\n",
              "    </tr>\n",
              "    <tr>\n",
              "      <td>256</td>\n",
              "      <td>3.159300</td>\n",
              "    </tr>\n",
              "    <tr>\n",
              "      <td>320</td>\n",
              "      <td>3.071100</td>\n",
              "    </tr>\n",
              "    <tr>\n",
              "      <td>384</td>\n",
              "      <td>3.026300</td>\n",
              "    </tr>\n",
              "    <tr>\n",
              "      <td>448</td>\n",
              "      <td>2.939500</td>\n",
              "    </tr>\n",
              "    <tr>\n",
              "      <td>512</td>\n",
              "      <td>2.764500</td>\n",
              "    </tr>\n",
              "    <tr>\n",
              "      <td>576</td>\n",
              "      <td>2.625000</td>\n",
              "    </tr>\n",
              "    <tr>\n",
              "      <td>640</td>\n",
              "      <td>2.434800</td>\n",
              "    </tr>\n",
              "    <tr>\n",
              "      <td>704</td>\n",
              "      <td>2.240900</td>\n",
              "    </tr>\n",
              "    <tr>\n",
              "      <td>768</td>\n",
              "      <td>2.131100</td>\n",
              "    </tr>\n",
              "    <tr>\n",
              "      <td>832</td>\n",
              "      <td>2.022500</td>\n",
              "    </tr>\n",
              "    <tr>\n",
              "      <td>896</td>\n",
              "      <td>1.842400</td>\n",
              "    </tr>\n",
              "    <tr>\n",
              "      <td>960</td>\n",
              "      <td>1.721100</td>\n",
              "    </tr>\n",
              "    <tr>\n",
              "      <td>1024</td>\n",
              "      <td>1.688800</td>\n",
              "    </tr>\n",
              "    <tr>\n",
              "      <td>1088</td>\n",
              "      <td>1.606900</td>\n",
              "    </tr>\n",
              "    <tr>\n",
              "      <td>1152</td>\n",
              "      <td>1.444300</td>\n",
              "    </tr>\n",
              "    <tr>\n",
              "      <td>1216</td>\n",
              "      <td>1.398400</td>\n",
              "    </tr>\n",
              "    <tr>\n",
              "      <td>1280</td>\n",
              "      <td>1.290400</td>\n",
              "    </tr>\n",
              "    <tr>\n",
              "      <td>1344</td>\n",
              "      <td>1.447700</td>\n",
              "    </tr>\n",
              "    <tr>\n",
              "      <td>1408</td>\n",
              "      <td>1.181700</td>\n",
              "    </tr>\n",
              "    <tr>\n",
              "      <td>1472</td>\n",
              "      <td>1.102500</td>\n",
              "    </tr>\n",
              "    <tr>\n",
              "      <td>1536</td>\n",
              "      <td>1.109900</td>\n",
              "    </tr>\n",
              "    <tr>\n",
              "      <td>1600</td>\n",
              "      <td>1.050300</td>\n",
              "    </tr>\n",
              "    <tr>\n",
              "      <td>1664</td>\n",
              "      <td>1.065000</td>\n",
              "    </tr>\n",
              "    <tr>\n",
              "      <td>1728</td>\n",
              "      <td>0.832900</td>\n",
              "    </tr>\n",
              "    <tr>\n",
              "      <td>1792</td>\n",
              "      <td>0.901700</td>\n",
              "    </tr>\n",
              "    <tr>\n",
              "      <td>1856</td>\n",
              "      <td>0.906100</td>\n",
              "    </tr>\n",
              "    <tr>\n",
              "      <td>1920</td>\n",
              "      <td>0.894800</td>\n",
              "    </tr>\n",
              "    <tr>\n",
              "      <td>1984</td>\n",
              "      <td>0.790100</td>\n",
              "    </tr>\n",
              "    <tr>\n",
              "      <td>2048</td>\n",
              "      <td>0.684200</td>\n",
              "    </tr>\n",
              "    <tr>\n",
              "      <td>2112</td>\n",
              "      <td>0.704300</td>\n",
              "    </tr>\n",
              "    <tr>\n",
              "      <td>2176</td>\n",
              "      <td>0.669700</td>\n",
              "    </tr>\n",
              "    <tr>\n",
              "      <td>2240</td>\n",
              "      <td>0.509600</td>\n",
              "    </tr>\n",
              "    <tr>\n",
              "      <td>2304</td>\n",
              "      <td>0.490400</td>\n",
              "    </tr>\n",
              "    <tr>\n",
              "      <td>2368</td>\n",
              "      <td>0.550600</td>\n",
              "    </tr>\n",
              "    <tr>\n",
              "      <td>2432</td>\n",
              "      <td>0.468500</td>\n",
              "    </tr>\n",
              "    <tr>\n",
              "      <td>2496</td>\n",
              "      <td>0.320600</td>\n",
              "    </tr>\n",
              "    <tr>\n",
              "      <td>2560</td>\n",
              "      <td>0.338800</td>\n",
              "    </tr>\n",
              "    <tr>\n",
              "      <td>2624</td>\n",
              "      <td>0.316800</td>\n",
              "    </tr>\n",
              "    <tr>\n",
              "      <td>2688</td>\n",
              "      <td>0.275400</td>\n",
              "    </tr>\n",
              "  </tbody>\n",
              "</table><p>"
            ]
          },
          "metadata": {}
        },
        {
          "output_type": "execute_result",
          "data": {
            "text/plain": [
              "TrainOutput(global_step=2700, training_loss=1.5140633173342104, metrics={'train_runtime': 375.1222, 'train_samples_per_second': 114.763, 'train_steps_per_second': 7.198, 'total_flos': 747589194845460.0, 'train_loss': 1.5140633173342104, 'epoch': 10.0})"
            ]
          },
          "metadata": {},
          "execution_count": 30
        }
      ],
      "source": [
        "trainer.train()"
      ]
    },
    {
      "cell_type": "markdown",
      "source": [
        "file name format:\n",
        "\n",
        "model_dataset_finetuningEpochs_fineTunningBatchSize_lossFunction_classifierEpochs_classifierbatchsize"
      ],
      "metadata": {
        "id": "dExGhM5XXVc1"
      },
      "id": "dExGhM5XXVc1"
    },
    {
      "cell_type": "code",
      "execution_count": null,
      "id": "21e5ac90",
      "metadata": {
        "id": "21e5ac90"
      },
      "outputs": [],
      "source": [
        "# save the model\n",
        "saved_model_name = './electra_sst5_sst2_pretrianed'\n",
        "trainer.save_model(saved_model_name)"
      ]
    },
    {
      "cell_type": "code",
      "source": [
        "# load saved model\n",
        "model = AutoModel.from_pretrained(saved_model_name).to(device)\n",
        "clear_output()"
      ],
      "metadata": {
        "id": "2vtjg7YHhWUG"
      },
      "id": "2vtjg7YHhWUG",
      "execution_count": null,
      "outputs": []
    },
    {
      "cell_type": "code",
      "source": [
        "trainer.evaluate()"
      ],
      "metadata": {
        "id": "syYEfq2VD7EO",
        "colab": {
          "base_uri": "https://localhost:8080/",
          "height": 124
        },
        "outputId": "14d78f27-3d94-4325-b8fa-f88a37696b33"
      },
      "id": "syYEfq2VD7EO",
      "execution_count": null,
      "outputs": [
        {
          "output_type": "display_data",
          "data": {
            "text/plain": [
              "<IPython.core.display.HTML object>"
            ],
            "text/html": [
              "\n",
              "    <div>\n",
              "      \n",
              "      <progress value='185' max='185' style='width:300px; height:20px; vertical-align: middle;'></progress>\n",
              "      [185/185 00:06]\n",
              "    </div>\n",
              "    "
            ]
          },
          "metadata": {}
        },
        {
          "output_type": "execute_result",
          "data": {
            "text/plain": [
              "{'eval_loss': 1.8839740753173828,\n",
              " 'eval_runtime': 6.445,\n",
              " 'eval_samples_per_second': 458.648,\n",
              " 'eval_steps_per_second': 28.704,\n",
              " 'epoch': 10.0}"
            ]
          },
          "metadata": {},
          "execution_count": 33
        }
      ]
    },
    {
      "cell_type": "code",
      "source": [
        "dataset"
      ],
      "metadata": {
        "id": "EwDRKV4lTR5W",
        "colab": {
          "base_uri": "https://localhost:8080/"
        },
        "outputId": "91ea91e8-e828-4790-d216-37a8904a100d"
      },
      "id": "EwDRKV4lTR5W",
      "execution_count": null,
      "outputs": [
        {
          "output_type": "execute_result",
          "data": {
            "text/plain": [
              "DatasetDict({\n",
              "    train: Dataset({\n",
              "        features: ['text', 'labels', 'id'],\n",
              "        num_rows: 43410\n",
              "    })\n",
              "    validation: Dataset({\n",
              "        features: ['text', 'labels', 'id'],\n",
              "        num_rows: 5426\n",
              "    })\n",
              "    test: Dataset({\n",
              "        features: ['text', 'labels', 'id'],\n",
              "        num_rows: 5427\n",
              "    })\n",
              "})"
            ]
          },
          "metadata": {},
          "execution_count": 34
        }
      ]
    },
    {
      "cell_type": "code",
      "source": [
        "predictions = trainer.predict(tokenized_test)\n",
        "preds = np.argmax(predictions.predictions, axis=-1)"
      ],
      "metadata": {
        "id": "0ip5a2AyEg5r",
        "colab": {
          "base_uri": "https://localhost:8080/",
          "height": 17
        },
        "outputId": "c4cbff25-2f58-46ee-edf3-5f6a8ba4659f"
      },
      "id": "0ip5a2AyEg5r",
      "execution_count": null,
      "outputs": [
        {
          "output_type": "display_data",
          "data": {
            "text/plain": [
              "<IPython.core.display.HTML object>"
            ],
            "text/html": []
          },
          "metadata": {}
        }
      ]
    },
    {
      "cell_type": "code",
      "source": [
        "metric = evaluate.load('accuracy')\n",
        "acc= metric.compute(predictions=preds, references=predictions.label_ids)\n",
        "metric = evaluate.load('recall')\n",
        "rec = metric.compute(predictions=preds, references=predictions.label_ids)\n",
        "metric = evaluate.load('precision')\n",
        "pre = metric.compute(predictions=preds, references=predictions.label_ids)\n",
        "metric = evaluate.load('f1')\n",
        "f1 = metric.compute(predictions=preds, references=predictions.label_ids)\n",
        "print(f1, rec, pre, acc, end='\\n')"
      ],
      "metadata": {
        "id": "hVHgiRvkGhCt",
        "colab": {
          "base_uri": "https://localhost:8080/",
          "height": 447,
          "referenced_widgets": [
            "82ab247758de4697b431c027cf43e26c",
            "9babc2bb70d2416aa6195d32360f63ad",
            "7851996571f148bc94096061f5503d9e",
            "ad71eda062ef4844aef2612bf466264b",
            "9d839d30e5d641efb4bcfad1d579bfc1",
            "626caa79e6fc4d9daa64ab4a017ab17a",
            "d53c6d59e933433fb730c7c5fc0484da",
            "b641c6c11ce84809904090c5791b3b8b",
            "866a562fe9a940b2b7c86963e62619e2",
            "c1d6f566d0d244aabc5d4fe04b3aeae3",
            "5cc823fd343a4eadb61188a089d94030"
          ]
        },
        "outputId": "b77ed3cb-fdd2-49e7-f2b5-b878e6ba110b"
      },
      "id": "hVHgiRvkGhCt",
      "execution_count": null,
      "outputs": [
        {
          "output_type": "display_data",
          "data": {
            "text/plain": [
              "Downloading builder script:   0%|          | 0.00/7.36k [00:00<?, ?B/s]"
            ],
            "application/vnd.jupyter.widget-view+json": {
              "version_major": 2,
              "version_minor": 0,
              "model_id": "82ab247758de4697b431c027cf43e26c"
            }
          },
          "metadata": {}
        },
        {
          "output_type": "error",
          "ename": "ValueError",
          "evalue": "ignored",
          "traceback": [
            "\u001b[0;31m---------------------------------------------------------------------------\u001b[0m",
            "\u001b[0;31mValueError\u001b[0m                                Traceback (most recent call last)",
            "\u001b[0;32m<ipython-input-36-fa039f59689f>\u001b[0m in \u001b[0;36m<cell line: 4>\u001b[0;34m()\u001b[0m\n\u001b[1;32m      2\u001b[0m \u001b[0macc\u001b[0m\u001b[0;34m=\u001b[0m \u001b[0mmetric\u001b[0m\u001b[0;34m.\u001b[0m\u001b[0mcompute\u001b[0m\u001b[0;34m(\u001b[0m\u001b[0mpredictions\u001b[0m\u001b[0;34m=\u001b[0m\u001b[0mpreds\u001b[0m\u001b[0;34m,\u001b[0m \u001b[0mreferences\u001b[0m\u001b[0;34m=\u001b[0m\u001b[0mpredictions\u001b[0m\u001b[0;34m.\u001b[0m\u001b[0mlabel_ids\u001b[0m\u001b[0;34m)\u001b[0m\u001b[0;34m\u001b[0m\u001b[0;34m\u001b[0m\u001b[0m\n\u001b[1;32m      3\u001b[0m \u001b[0mmetric\u001b[0m \u001b[0;34m=\u001b[0m \u001b[0mevaluate\u001b[0m\u001b[0;34m.\u001b[0m\u001b[0mload\u001b[0m\u001b[0;34m(\u001b[0m\u001b[0;34m'recall'\u001b[0m\u001b[0;34m)\u001b[0m\u001b[0;34m\u001b[0m\u001b[0;34m\u001b[0m\u001b[0m\n\u001b[0;32m----> 4\u001b[0;31m \u001b[0mrec\u001b[0m \u001b[0;34m=\u001b[0m \u001b[0mmetric\u001b[0m\u001b[0;34m.\u001b[0m\u001b[0mcompute\u001b[0m\u001b[0;34m(\u001b[0m\u001b[0mpredictions\u001b[0m\u001b[0;34m=\u001b[0m\u001b[0mpreds\u001b[0m\u001b[0;34m,\u001b[0m \u001b[0mreferences\u001b[0m\u001b[0;34m=\u001b[0m\u001b[0mpredictions\u001b[0m\u001b[0;34m.\u001b[0m\u001b[0mlabel_ids\u001b[0m\u001b[0;34m)\u001b[0m\u001b[0;34m\u001b[0m\u001b[0;34m\u001b[0m\u001b[0m\n\u001b[0m\u001b[1;32m      5\u001b[0m \u001b[0mmetric\u001b[0m \u001b[0;34m=\u001b[0m \u001b[0mevaluate\u001b[0m\u001b[0;34m.\u001b[0m\u001b[0mload\u001b[0m\u001b[0;34m(\u001b[0m\u001b[0;34m'precision'\u001b[0m\u001b[0;34m)\u001b[0m\u001b[0;34m\u001b[0m\u001b[0;34m\u001b[0m\u001b[0m\n\u001b[1;32m      6\u001b[0m \u001b[0mpre\u001b[0m \u001b[0;34m=\u001b[0m \u001b[0mmetric\u001b[0m\u001b[0;34m.\u001b[0m\u001b[0mcompute\u001b[0m\u001b[0;34m(\u001b[0m\u001b[0mpredictions\u001b[0m\u001b[0;34m=\u001b[0m\u001b[0mpreds\u001b[0m\u001b[0;34m,\u001b[0m \u001b[0mreferences\u001b[0m\u001b[0;34m=\u001b[0m\u001b[0mpredictions\u001b[0m\u001b[0;34m.\u001b[0m\u001b[0mlabel_ids\u001b[0m\u001b[0;34m)\u001b[0m\u001b[0;34m\u001b[0m\u001b[0;34m\u001b[0m\u001b[0m\n",
            "\u001b[0;32m/usr/local/lib/python3.10/dist-packages/evaluate/module.py\u001b[0m in \u001b[0;36mcompute\u001b[0;34m(self, predictions, references, **kwargs)\u001b[0m\n\u001b[1;32m    442\u001b[0m             \u001b[0minputs\u001b[0m \u001b[0;34m=\u001b[0m \u001b[0;34m{\u001b[0m\u001b[0minput_name\u001b[0m\u001b[0;34m:\u001b[0m \u001b[0mself\u001b[0m\u001b[0;34m.\u001b[0m\u001b[0mdata\u001b[0m\u001b[0;34m[\u001b[0m\u001b[0minput_name\u001b[0m\u001b[0;34m]\u001b[0m \u001b[0;32mfor\u001b[0m \u001b[0minput_name\u001b[0m \u001b[0;32min\u001b[0m \u001b[0mself\u001b[0m\u001b[0;34m.\u001b[0m\u001b[0m_feature_names\u001b[0m\u001b[0;34m(\u001b[0m\u001b[0;34m)\u001b[0m\u001b[0;34m}\u001b[0m\u001b[0;34m\u001b[0m\u001b[0;34m\u001b[0m\u001b[0m\n\u001b[1;32m    443\u001b[0m             \u001b[0;32mwith\u001b[0m \u001b[0mtemp_seed\u001b[0m\u001b[0;34m(\u001b[0m\u001b[0mself\u001b[0m\u001b[0;34m.\u001b[0m\u001b[0mseed\u001b[0m\u001b[0;34m)\u001b[0m\u001b[0;34m:\u001b[0m\u001b[0;34m\u001b[0m\u001b[0;34m\u001b[0m\u001b[0m\n\u001b[0;32m--> 444\u001b[0;31m                 \u001b[0moutput\u001b[0m \u001b[0;34m=\u001b[0m \u001b[0mself\u001b[0m\u001b[0;34m.\u001b[0m\u001b[0m_compute\u001b[0m\u001b[0;34m(\u001b[0m\u001b[0;34m**\u001b[0m\u001b[0minputs\u001b[0m\u001b[0;34m,\u001b[0m \u001b[0;34m**\u001b[0m\u001b[0mcompute_kwargs\u001b[0m\u001b[0;34m)\u001b[0m\u001b[0;34m\u001b[0m\u001b[0;34m\u001b[0m\u001b[0m\n\u001b[0m\u001b[1;32m    445\u001b[0m \u001b[0;34m\u001b[0m\u001b[0m\n\u001b[1;32m    446\u001b[0m             \u001b[0;32mif\u001b[0m \u001b[0mself\u001b[0m\u001b[0;34m.\u001b[0m\u001b[0mbuf_writer\u001b[0m \u001b[0;32mis\u001b[0m \u001b[0;32mnot\u001b[0m \u001b[0;32mNone\u001b[0m\u001b[0;34m:\u001b[0m\u001b[0;34m\u001b[0m\u001b[0;34m\u001b[0m\u001b[0m\n",
            "\u001b[0;32m~/.cache/huggingface/modules/evaluate_modules/metrics/evaluate-metric--recall/e40e6e98d18ff3f210f4d0b26fa721bfaa80704b1fdf890fa551cfabf94fc185/recall.py\u001b[0m in \u001b[0;36m_compute\u001b[0;34m(self, predictions, references, labels, pos_label, average, sample_weight, zero_division)\u001b[0m\n\u001b[1;32m    124\u001b[0m         \u001b[0mzero_division\u001b[0m\u001b[0;34m=\u001b[0m\u001b[0;34m\"warn\"\u001b[0m\u001b[0;34m,\u001b[0m\u001b[0;34m\u001b[0m\u001b[0;34m\u001b[0m\u001b[0m\n\u001b[1;32m    125\u001b[0m     ):\n\u001b[0;32m--> 126\u001b[0;31m         score = recall_score(\n\u001b[0m\u001b[1;32m    127\u001b[0m             \u001b[0mreferences\u001b[0m\u001b[0;34m,\u001b[0m\u001b[0;34m\u001b[0m\u001b[0;34m\u001b[0m\u001b[0m\n\u001b[1;32m    128\u001b[0m             \u001b[0mpredictions\u001b[0m\u001b[0;34m,\u001b[0m\u001b[0;34m\u001b[0m\u001b[0;34m\u001b[0m\u001b[0m\n",
            "\u001b[0;32m/usr/local/lib/python3.10/dist-packages/sklearn/metrics/_classification.py\u001b[0m in \u001b[0;36mrecall_score\u001b[0;34m(y_true, y_pred, labels, pos_label, average, sample_weight, zero_division)\u001b[0m\n\u001b[1;32m   2096\u001b[0m     \u001b[0marray\u001b[0m\u001b[0;34m(\u001b[0m\u001b[0;34m[\u001b[0m\u001b[0;36m1.\u001b[0m \u001b[0;34m,\u001b[0m \u001b[0;36m1.\u001b[0m \u001b[0;34m,\u001b[0m \u001b[0;36m0.5\u001b[0m\u001b[0;34m]\u001b[0m\u001b[0;34m)\u001b[0m\u001b[0;34m\u001b[0m\u001b[0;34m\u001b[0m\u001b[0m\n\u001b[1;32m   2097\u001b[0m     \"\"\"\n\u001b[0;32m-> 2098\u001b[0;31m     _, r, _, _ = precision_recall_fscore_support(\n\u001b[0m\u001b[1;32m   2099\u001b[0m         \u001b[0my_true\u001b[0m\u001b[0;34m,\u001b[0m\u001b[0;34m\u001b[0m\u001b[0;34m\u001b[0m\u001b[0m\n\u001b[1;32m   2100\u001b[0m         \u001b[0my_pred\u001b[0m\u001b[0;34m,\u001b[0m\u001b[0;34m\u001b[0m\u001b[0;34m\u001b[0m\u001b[0m\n",
            "\u001b[0;32m/usr/local/lib/python3.10/dist-packages/sklearn/metrics/_classification.py\u001b[0m in \u001b[0;36mprecision_recall_fscore_support\u001b[0;34m(y_true, y_pred, beta, labels, pos_label, average, warn_for, sample_weight, zero_division)\u001b[0m\n\u001b[1;32m   1571\u001b[0m     \u001b[0;32mif\u001b[0m \u001b[0mbeta\u001b[0m \u001b[0;34m<\u001b[0m \u001b[0;36m0\u001b[0m\u001b[0;34m:\u001b[0m\u001b[0;34m\u001b[0m\u001b[0;34m\u001b[0m\u001b[0m\n\u001b[1;32m   1572\u001b[0m         \u001b[0;32mraise\u001b[0m \u001b[0mValueError\u001b[0m\u001b[0;34m(\u001b[0m\u001b[0;34m\"beta should be >=0 in the F-beta score\"\u001b[0m\u001b[0;34m)\u001b[0m\u001b[0;34m\u001b[0m\u001b[0;34m\u001b[0m\u001b[0m\n\u001b[0;32m-> 1573\u001b[0;31m     \u001b[0mlabels\u001b[0m \u001b[0;34m=\u001b[0m \u001b[0m_check_set_wise_labels\u001b[0m\u001b[0;34m(\u001b[0m\u001b[0my_true\u001b[0m\u001b[0;34m,\u001b[0m \u001b[0my_pred\u001b[0m\u001b[0;34m,\u001b[0m \u001b[0maverage\u001b[0m\u001b[0;34m,\u001b[0m \u001b[0mlabels\u001b[0m\u001b[0;34m,\u001b[0m \u001b[0mpos_label\u001b[0m\u001b[0;34m)\u001b[0m\u001b[0;34m\u001b[0m\u001b[0;34m\u001b[0m\u001b[0m\n\u001b[0m\u001b[1;32m   1574\u001b[0m \u001b[0;34m\u001b[0m\u001b[0m\n\u001b[1;32m   1575\u001b[0m     \u001b[0;31m# Calculate tp_sum, pred_sum, true_sum ###\u001b[0m\u001b[0;34m\u001b[0m\u001b[0;34m\u001b[0m\u001b[0m\n",
            "\u001b[0;32m/usr/local/lib/python3.10/dist-packages/sklearn/metrics/_classification.py\u001b[0m in \u001b[0;36m_check_set_wise_labels\u001b[0;34m(y_true, y_pred, average, labels, pos_label)\u001b[0m\n\u001b[1;32m   1389\u001b[0m             \u001b[0;32mif\u001b[0m \u001b[0my_type\u001b[0m \u001b[0;34m==\u001b[0m \u001b[0;34m\"multiclass\"\u001b[0m\u001b[0;34m:\u001b[0m\u001b[0;34m\u001b[0m\u001b[0;34m\u001b[0m\u001b[0m\n\u001b[1;32m   1390\u001b[0m                 \u001b[0maverage_options\u001b[0m\u001b[0;34m.\u001b[0m\u001b[0mremove\u001b[0m\u001b[0;34m(\u001b[0m\u001b[0;34m\"samples\"\u001b[0m\u001b[0;34m)\u001b[0m\u001b[0;34m\u001b[0m\u001b[0;34m\u001b[0m\u001b[0m\n\u001b[0;32m-> 1391\u001b[0;31m             raise ValueError(\n\u001b[0m\u001b[1;32m   1392\u001b[0m                 \u001b[0;34m\"Target is %s but average='binary'. Please \"\u001b[0m\u001b[0;34m\u001b[0m\u001b[0;34m\u001b[0m\u001b[0m\n\u001b[1;32m   1393\u001b[0m                 \u001b[0;34m\"choose another average setting, one of %r.\"\u001b[0m \u001b[0;34m%\u001b[0m \u001b[0;34m(\u001b[0m\u001b[0my_type\u001b[0m\u001b[0;34m,\u001b[0m \u001b[0maverage_options\u001b[0m\u001b[0;34m)\u001b[0m\u001b[0;34m\u001b[0m\u001b[0;34m\u001b[0m\u001b[0m\n",
            "\u001b[0;31mValueError\u001b[0m: Target is multiclass but average='binary'. Please choose another average setting, one of [None, 'micro', 'macro', 'weighted']."
          ]
        }
      ]
    },
    {
      "cell_type": "markdown",
      "source": [
        "# Classifier"
      ],
      "metadata": {
        "id": "1V0If-lnYNdr"
      },
      "id": "1V0If-lnYNdr"
    },
    {
      "cell_type": "code",
      "source": [
        "model.electra"
      ],
      "metadata": {
        "id": "fxSULZDC-DNY"
      },
      "id": "fxSULZDC-DNY",
      "execution_count": null,
      "outputs": []
    },
    {
      "cell_type": "code",
      "source": [
        "# freeze language model\n",
        "for param in model.parameters():\n",
        "    param.requires_grad = False"
      ],
      "metadata": {
        "id": "1cg8PkO9YJOZ"
      },
      "id": "1cg8PkO9YJOZ",
      "execution_count": null,
      "outputs": []
    },
    {
      "cell_type": "code",
      "source": [],
      "metadata": {
        "id": "htgLEnjQ-R-d"
      },
      "id": "htgLEnjQ-R-d",
      "execution_count": null,
      "outputs": []
    },
    {
      "cell_type": "code",
      "execution_count": null,
      "metadata": {
        "id": "0EXKwm5bZ2J4"
      },
      "outputs": [],
      "source": [
        "# classifier hyper parameters\n",
        "classifier_batch = 1\n",
        "classifier_epochs = 5\n",
        "lr = 5e-5\n",
        "weight_decay = 0.1"
      ],
      "id": "0EXKwm5bZ2J4"
    },
    {
      "cell_type": "code",
      "source": [
        "train_dataloader = DataLoader(\n",
        "    tokenized_train, shuffle=True, batch_size=classifier_batch, collate_fn=data_collator\n",
        ")\n",
        "valid_dataloader = DataLoader(\n",
        "    tokenized_valid, batch_size=classifier_batch, collate_fn=data_collator\n",
        ")\n",
        "test_dataloader = DataLoader(\n",
        "    tokenized_test, batch_size=classifier_batch, collate_fn=data_collator\n",
        ")"
      ],
      "metadata": {
        "id": "sUlMTYEtZ-Rt"
      },
      "id": "sUlMTYEtZ-Rt",
      "execution_count": null,
      "outputs": []
    },
    {
      "cell_type": "code",
      "source": [
        "train_outs = []\n",
        "train_labels = []\n",
        "model.to(device)\n",
        "with torch.no_grad():\n",
        "  for j, batch in enumerate(tqdm(train_dataloader)):\n",
        "    labels = batch.pop('labels')\n",
        "    batch = batch.to(device)\n",
        "    x = model(**batch)['last_hidden_state'][0]\n",
        "    x = torch.mean(x[1:], axis=0)\n",
        "    train_outs+=x\n",
        "    train_labels += labels"
      ],
      "metadata": {
        "id": "KVSDNTiHEOMP",
        "colab": {
          "base_uri": "https://localhost:8080/",
          "height": 49,
          "referenced_widgets": [
            "6bced8a8d2454368a495d4a2e1129bd6",
            "a385fe012d7940a2ab60d24e71ca36f7",
            "15fe24328a284de38493da7c4f622103",
            "574e41293fb1434daba2da866ee40278",
            "920b1899036d419facc325807b10e8a1",
            "ff9668c214fa47ff972a8b8152743ff0",
            "ab4a5e6da5ea4785ade1516342e01faa",
            "cf3f58d0608e4a8da5695ff4b7b00d55",
            "464069e437814d30816dacf4f442376a",
            "30280f94e9cc4799a79a50c1516c9435",
            "cce0cd1a73104244b26eacaa02dd009a"
          ]
        },
        "outputId": "27842cef-bbda-486a-be3b-8868b02b21f2"
      },
      "execution_count": null,
      "outputs": [
        {
          "output_type": "display_data",
          "data": {
            "text/plain": [
              "  0%|          | 0/4305 [00:00<?, ?it/s]"
            ],
            "application/vnd.jupyter.widget-view+json": {
              "version_major": 2,
              "version_minor": 0,
              "model_id": "6bced8a8d2454368a495d4a2e1129bd6"
            }
          },
          "metadata": {}
        }
      ],
      "id": "KVSDNTiHEOMP"
    },
    {
      "cell_type": "code",
      "source": [
        "test_outs = []\n",
        "test_labels = []\n",
        "model.to(device)\n",
        "with torch.no_grad():\n",
        "  for j, batch in enumerate(tqdm(test_dataloader)):\n",
        "    labels = batch.pop('labels')\n",
        "    batch = batch.to(device)\n",
        "    x = model(**batch)['last_hidden_state'][0]\n",
        "    x = torch.mean(x[1:], axis=0)\n",
        "    test_outs+=x\n",
        "    test_labels += labels"
      ],
      "metadata": {
        "id": "UsFp-cs18D5a",
        "colab": {
          "base_uri": "https://localhost:8080/",
          "height": 49,
          "referenced_widgets": [
            "1fbcc3fca9d04d25852a6917a4bb57c1",
            "3e96c42ef8d548a3a8316bd5ddb96fbd",
            "ae05930ebee14ce382058af454eb9b80",
            "60e5e2272ed14f1abb1cc32554de8313",
            "962359517d7f4ec7a9b6fe2fbabbe91c",
            "82fc2c9e0aae4c7c85bad69b2c2ee77d",
            "fe458a4a183f444687236b9ae20066b2",
            "2235a407d6af4eb69f4e6998a5588d4d",
            "ec28347aa9054048ae624ef8cc062d79",
            "39b43e81ff8a4730a43322debc462afd",
            "6670e082a83a4b489c0adbe02fd6fe92"
          ]
        },
        "outputId": "9342d340-5ee9-42ad-dd9b-75a1fba3cc48"
      },
      "execution_count": null,
      "outputs": [
        {
          "output_type": "display_data",
          "data": {
            "text/plain": [
              "  0%|          | 0/2984 [00:00<?, ?it/s]"
            ],
            "application/vnd.jupyter.widget-view+json": {
              "version_major": 2,
              "version_minor": 0,
              "model_id": "1fbcc3fca9d04d25852a6917a4bb57c1"
            }
          },
          "metadata": {}
        }
      ],
      "id": "UsFp-cs18D5a"
    },
    {
      "cell_type": "code",
      "source": [
        "stack_outs = torch.stack(train_outs, dim=0).cpu().numpy().reshape(-1, 768)"
      ],
      "metadata": {
        "id": "Y415pj8-HPSj"
      },
      "id": "Y415pj8-HPSj",
      "execution_count": null,
      "outputs": []
    },
    {
      "cell_type": "code",
      "source": [
        "test_stack_outs = torch.stack(test_outs, dim=0).cpu().numpy().reshape(-1, 768)"
      ],
      "metadata": {
        "id": "cJI8tOvs9ks_"
      },
      "id": "cJI8tOvs9ks_",
      "execution_count": null,
      "outputs": []
    },
    {
      "cell_type": "code",
      "source": [
        "# Apply UMAP to the embeddings to obtain a 2D projection\n",
        "umap_embeddings = umap.UMAP(n_neighbors=27, min_dist=0.3).fit_transform(stack_outs)"
      ],
      "metadata": {
        "id": "-7ZBer5O-XV0"
      },
      "id": "-7ZBer5O-XV0",
      "execution_count": null,
      "outputs": []
    },
    {
      "cell_type": "code",
      "source": [
        "import matplotlib as mpl\n",
        "import matplotlib.pylab as plt\n",
        "\n",
        "\n",
        "fig, ax = plt.subplots(1, 1, figsize=(10,10))\n",
        "\n",
        "cmap = plt.cm.jet\n",
        "cmaplist = [cmap(i) for i in range(cmap.N)]\n",
        "# force the first color entry to be grey\n",
        "cmaplist[0] = (.5, .5, .5, 1.0)\n",
        "\n",
        "# create the new map\n",
        "cmap = mpl.colors.LinearSegmentedColormap.from_list(\n",
        "    'Custom cmap', cmaplist, cmap.N)\n",
        "\n",
        "# define the bins and normalize\n",
        "bounds = np.linspace(0, 26, 27)\n",
        "norm = mpl.colors.BoundaryNorm(bounds, cmap.N)\n",
        "\n",
        "# make the scatter\n",
        "scat = ax.scatter(umap_embeddings[:, 0], umap_embeddings[:, 1], c=train_labels, s=4,\n",
        "                  cmap=cmap, norm=norm)\n",
        "\n",
        "# create a second axes for the colorbar\n",
        "ax2 = fig.add_axes([0.95, 0.1, 0.03, 0.8])\n",
        "cb = mpl.colorbar.ColorbarBase(ax2, cmap=cmap, norm=norm,\n",
        "    spacing='proportional', ticks=bounds, boundaries=bounds, format='%1i')\n",
        "\n",
        "# Show the plot\n",
        "ax.set_title('goEmotions --- Train')\n",
        "ax2.set_ylabel('labels', size=12)\n",
        "fig.show()"
      ],
      "metadata": {
        "id": "ZM8TvOxURloO",
        "colab": {
          "base_uri": "https://localhost:8080/",
          "height": 856
        },
        "outputId": "5961aabc-df11-48ab-9d0c-f7c8b3edf447"
      },
      "id": "ZM8TvOxURloO",
      "execution_count": null,
      "outputs": [
        {
          "output_type": "display_data",
          "data": {
            "text/plain": [
              "<Figure size 1000x1000 with 2 Axes>"
            ],
            "image/png": "[encoded data removed]"
          },
          "metadata": {}
        }
      ]
    },
    {
      "cell_type": "code",
      "source": [
        "# Apply UMAP to the embeddings to obtain a 2D projection\n",
        "umap_embeddings = umap.UMAP(n_neighbors=27, min_dist=0.3).fit_transform(test_stack_outs)\n"
      ],
      "metadata": {
        "id": "SFzRFEAbMg-V"
      },
      "id": "SFzRFEAbMg-V",
      "execution_count": null,
      "outputs": []
    },
    {
      "cell_type": "code",
      "source": [
        "import matplotlib as mpl\n",
        "import matplotlib.pylab as plt\n",
        "\n",
        "\n",
        "fig, ax = plt.subplots(1, 1, figsize=(10,10))\n",
        "\n",
        "cmap = plt.cm.jet\n",
        "cmaplist = [cmap(i) for i in range(cmap.N)]\n",
        "# force the first color entry to be grey\n",
        "cmaplist[0] = (.5, .5, .5, 1.0)\n",
        "\n",
        "# create the new map\n",
        "cmap = mpl.colors.LinearSegmentedColormap.from_list(\n",
        "    'Custom cmap', cmaplist, cmap.N)\n",
        "\n",
        "# define the bins and normalize\n",
        "bounds = np.linspace(0, 26, 27)\n",
        "norm = mpl.colors.BoundaryNorm(bounds, cmap.N)\n",
        "\n",
        "# make the scatter\n",
        "scat = ax.scatter(umap_embeddings[:, 0], umap_embeddings[:, 1], c=test_labels, s=4,\n",
        "                  cmap=cmap, norm=norm)\n",
        "\n",
        "# create a second axes for the colorbar\n",
        "ax2 = fig.add_axes([0.95, 0.1, 0.03, 0.8])\n",
        "cb = mpl.colorbar.ColorbarBase(ax2, cmap=cmap, norm=norm,\n",
        "    spacing='proportional', ticks=bounds, boundaries=bounds, format='%1i')\n",
        "\n",
        "# Show the plot\n",
        "ax.set_title('goEmotions --- Test')\n",
        "ax2.set_ylabel('labels', size=12)\n",
        "fig.show()"
      ],
      "metadata": {
        "id": "XxadulBhMNH_",
        "colab": {
          "base_uri": "https://localhost:8080/",
          "height": 856
        },
        "outputId": "e32d984e-6f8e-4165-eb37-1aabea113b99"
      },
      "id": "XxadulBhMNH_",
      "execution_count": null,
      "outputs": [
        {
          "output_type": "display_data",
          "data": {
            "text/plain": [
              "<Figure size 1000x1000 with 2 Axes>"
            ],
            "image/png": "[encoded data removed]"
          },
          "metadata": {}
        }
      ]
    },
    {
      "cell_type": "code",
      "source": [
        "classifier_model = LMClassifierHead(model=model, num_labels=num_labels).to(device)\n",
        "optim = torch.optim.AdamW(classifier_model.parameters(), lr=lr)"
      ],
      "metadata": {
        "id": "F3NPjmLAaoUH"
      },
      "id": "F3NPjmLAaoUH",
      "execution_count": null,
      "outputs": []
    },
    {
      "cell_type": "code",
      "source": [
        "# for i in classifier_model.parameters():\n",
        "#     print(i.requires_grad)"
      ],
      "metadata": {
        "id": "VuuisGSXHoHj"
      },
      "id": "VuuisGSXHoHj",
      "execution_count": null,
      "outputs": []
    },
    {
      "cell_type": "code",
      "source": [
        "num_training_steps = classifier_epochs * len(train_dataloader)\n",
        "lr_scheduler = get_scheduler(\n",
        "    \"linear\",\n",
        "    optimizer=optim,\n",
        "    num_warmup_steps=0,\n",
        "    num_training_steps=num_training_steps,\n",
        ")\n",
        "print(num_training_steps)"
      ],
      "metadata": {
        "id": "oMqdq0RtctAR"
      },
      "id": "oMqdq0RtctAR",
      "execution_count": null,
      "outputs": []
    },
    {
      "cell_type": "code",
      "source": [
        "f1_metric = load_metric(\"f1\", average='macro')\n",
        "acc_metric = load_metric(\"accuracy\")"
      ],
      "metadata": {
        "id": "6My1jsOpdIMg"
      },
      "id": "6My1jsOpdIMg",
      "execution_count": null,
      "outputs": []
    },
    {
      "cell_type": "markdown",
      "source": [
        "## Test and train funcs"
      ],
      "metadata": {
        "id": "hV9TINoViKNJ"
      },
      "id": "hV9TINoViKNJ"
    },
    {
      "cell_type": "code",
      "source": [
        "def train(train_model, optimizer, num_epochs, batch_size, train_dataloader, eval_dataloader, num_training_steps):\n",
        "\n",
        "    progress_bar_train = tqdm(range(num_training_steps))\n",
        "    progress_bar_eval = tqdm(range(num_epochs * len(eval_dataloader)))\n",
        "\n",
        "    best_f1_metric = 0\n",
        "\n",
        "    for epoch in range(num_epochs):\n",
        "        train_model.train()\n",
        "        for batch in train_dataloader:\n",
        "            optimizer.zero_grad()\n",
        "\n",
        "            batch = {k: v.to(device) for k, v in batch.items()}\n",
        "            outputs = train_model(**batch)\n",
        "\n",
        "            loss = outputs.loss\n",
        "            loss.backward()\n",
        "\n",
        "            optimizer.step()\n",
        "            lr_scheduler.step()\n",
        "\n",
        "            progress_bar_train.update(1)\n",
        "\n",
        "        train_model.eval()\n",
        "        for batch in eval_dataloader:\n",
        "            batch = {k: v.to(device) for k, v in batch.items()}\n",
        "            with torch.no_grad():\n",
        "                outputs = train_model(**batch)\n",
        "\n",
        "            logits = outputs.logits\n",
        "            predictions = torch.argmax(logits, dim=-1)\n",
        "\n",
        "            f1_metric.add_batch(predictions=predictions, references=batch[\"labels\"])\n",
        "            acc_metric.add_batch(predictions=predictions, references=batch[\"labels\"])\n",
        "\n",
        "            progress_bar_eval.update(1)\n",
        "\n",
        "        f1 = f1_metric.compute(average='micro')\n",
        "        acc = acc_metric.compute()\n",
        "        print(f1, acc)\n",
        "        if best_f1_metric < f1['f1']:\n",
        "            best_f1_metric = f1['f1']\n",
        "            torch.save(train_model.state_dict(), 'classifier.pt')\n",
        "\n"
      ],
      "metadata": {
        "id": "T_Ku5bkJdnJQ"
      },
      "id": "T_Ku5bkJdnJQ",
      "execution_count": null,
      "outputs": []
    },
    {
      "cell_type": "code",
      "source": [
        "def test(test_model, test_dataloader):\n",
        "\n",
        "    test_model.eval()\n",
        "\n",
        "    for batch in tqdm(test_dataloader):\n",
        "        batch = {k: v.to(device) for k, v in batch.items()}\n",
        "        with torch.no_grad():\n",
        "            outputs = test_model(**batch)\n",
        "\n",
        "        logits = outputs.logits\n",
        "\n",
        "        predictions = torch.argmax(logits, dim=-1)\n",
        "        # print(predictions)\n",
        "        # print(batch['labels'])\n",
        "        f1_metric.add_batch(predictions=predictions, references=batch[\"labels\"])\n",
        "        acc_metric.add_batch(predictions=predictions, references=batch[\"labels\"])\n",
        "\n",
        "    print(f1_metric.compute(average='micro')['f1'] * 100)\n",
        "    print(acc_metric.compute()['accuracy'] * 100)"
      ],
      "metadata": {
        "id": "TNdy9fVVdRvr"
      },
      "id": "TNdy9fVVdRvr",
      "execution_count": null,
      "outputs": []
    },
    {
      "cell_type": "markdown",
      "source": [
        "## Test and Train"
      ],
      "metadata": {
        "id": "T-dI8P9hjs6S"
      },
      "id": "T-dI8P9hjs6S"
    },
    {
      "cell_type": "code",
      "source": [
        "train(classifier_model, optim, classifier_epochs, classifier_batch, train_dataloader, valid_dataloader, num_training_steps)"
      ],
      "metadata": {
        "id": "AWt7oFOHgSHH"
      },
      "id": "AWt7oFOHgSHH",
      "execution_count": null,
      "outputs": []
    },
    {
      "cell_type": "code",
      "source": [
        "classifier_model.load_state_dict(torch.load('classifier.pt'))"
      ],
      "metadata": {
        "id": "NTfJdoHkiguq"
      },
      "id": "NTfJdoHkiguq",
      "execution_count": null,
      "outputs": []
    },
    {
      "cell_type": "code",
      "source": [
        "test(classifier_model, test_dataloader)"
      ],
      "metadata": {
        "id": "0ZQVeTmejI5L"
      },
      "id": "0ZQVeTmejI5L",
      "execution_count": null,
      "outputs": []
    },
    {
      "cell_type": "code",
      "source": [
        "model"
      ],
      "metadata": {
        "id": "btJ_vNpTFN82"
      },
      "id": "btJ_vNpTFN82",
      "execution_count": null,
      "outputs": []
    },
    {
      "cell_type": "code",
      "source": [],
      "metadata": {
        "id": "PiicP59w3Isq"
      },
      "id": "PiicP59w3Isq",
      "execution_count": null,
      "outputs": []
    }
  ],
  "metadata": {
    "kernelspec": {
      "display_name": "Python 3",
      "name": "python3"
    },
    "language_info": {
      "codemirror_mode": {
        "name": "ipython",
        "version": 3
      },
      "file_extension": ".py",
      "mimetype": "text/x-python",
      "name": "python",
      "nbconvert_exporter": "python",
      "pygments_lexer": "ipython3",
      "version": "3.7.13"
    },
    "colab": {
      "provenance": [],
      "gpuType": "T4",
      "toc_visible": true
    },
    "accelerator": "GPU",
    "widgets": {
      "application/vnd.jupyter.widget-state+json": {
        "82ab247758de4697b431c027cf43e26c": {
          "model_module": "@jupyter-widgets/controls",
          "model_name": "HBoxModel",
          "model_module_version": "1.5.0",
          "state": {
            "_dom_classes": [],
            "_model_module": "@jupyter-widgets/controls",
            "_model_module_version": "1.5.0",
            "_model_name": "HBoxModel",
            "_view_count": null,
            "_view_module": "@jupyter-widgets/controls",
            "_view_module_version": "1.5.0",
            "_view_name": "HBoxView",
            "box_style": "",
            "children": [
              "IPY_MODEL_9babc2bb70d2416aa6195d32360f63ad",
              "IPY_MODEL_7851996571f148bc94096061f5503d9e",
              "IPY_MODEL_ad71eda062ef4844aef2612bf466264b"
            ],
            "layout": "IPY_MODEL_9d839d30e5d641efb4bcfad1d579bfc1"
          }
        },
        "9babc2bb70d2416aa6195d32360f63ad": {
          "model_module": "@jupyter-widgets/controls",
          "model_name": "HTMLModel",
          "model_module_version": "1.5.0",
          "state": {
            "_dom_classes": [],
            "_model_module": "@jupyter-widgets/controls",
            "_model_module_version": "1.5.0",
            "_model_name": "HTMLModel",
            "_view_count": null,
            "_view_module": "@jupyter-widgets/controls",
            "_view_module_version": "1.5.0",
            "_view_name": "HTMLView",
            "description": "",
            "description_tooltip": null,
            "layout": "IPY_MODEL_626caa79e6fc4d9daa64ab4a017ab17a",
            "placeholder": "​",
            "style": "IPY_MODEL_d53c6d59e933433fb730c7c5fc0484da",
            "value": "Downloading builder script: 100%"
          }
        },
        "7851996571f148bc94096061f5503d9e": {
          "model_module": "@jupyter-widgets/controls",
          "model_name": "FloatProgressModel",
          "model_module_version": "1.5.0",
          "state": {
            "_dom_classes": [],
            "_model_module": "@jupyter-widgets/controls",
            "_model_module_version": "1.5.0",
            "_model_name": "FloatProgressModel",
            "_view_count": null,
            "_view_module": "@jupyter-widgets/controls",
            "_view_module_version": "1.5.0",
            "_view_name": "ProgressView",
            "bar_style": "success",
            "description": "",
            "description_tooltip": null,
            "layout": "IPY_MODEL_b641c6c11ce84809904090c5791b3b8b",
            "max": 7363,
            "min": 0,
            "orientation": "horizontal",
            "style": "IPY_MODEL_866a562fe9a940b2b7c86963e62619e2",
            "value": 7363
          }
        },
        "ad71eda062ef4844aef2612bf466264b": {
          "model_module": "@jupyter-widgets/controls",
          "model_name": "HTMLModel",
          "model_module_version": "1.5.0",
          "state": {
            "_dom_classes": [],
            "_model_module": "@jupyter-widgets/controls",
            "_model_module_version": "1.5.0",
            "_model_name": "HTMLModel",
            "_view_count": null,
            "_view_module": "@jupyter-widgets/controls",
            "_view_module_version": "1.5.0",
            "_view_name": "HTMLView",
            "description": "",
            "description_tooltip": null,
            "layout": "IPY_MODEL_c1d6f566d0d244aabc5d4fe04b3aeae3",
            "placeholder": "​",
            "style": "IPY_MODEL_5cc823fd343a4eadb61188a089d94030",
            "value": " 7.36k/7.36k [00:00&lt;00:00, 428kB/s]"
          }
        },
        "9d839d30e5d641efb4bcfad1d579bfc1": {
          "model_module": "@jupyter-widgets/base",
          "model_name": "LayoutModel",
          "model_module_version": "1.2.0",
          "state": {
            "_model_module": "@jupyter-widgets/base",
            "_model_module_version": "1.2.0",
            "_model_name": "LayoutModel",
            "_view_count": null,
            "_view_module": "@jupyter-widgets/base",
            "_view_module_version": "1.2.0",
            "_view_name": "LayoutView",
            "align_content": null,
            "align_items": null,
            "align_self": null,
            "border": null,
            "bottom": null,
            "display": null,
            "flex": null,
            "flex_flow": null,
            "grid_area": null,
            "grid_auto_columns": null,
            "grid_auto_flow": null,
            "grid_auto_rows": null,
            "grid_column": null,
            "grid_gap": null,
            "grid_row": null,
            "grid_template_areas": null,
            "grid_template_columns": null,
            "grid_template_rows": null,
            "height": null,
            "justify_content": null,
            "justify_items": null,
            "left": null,
            "margin": null,
            "max_height": null,
            "max_width": null,
            "min_height": null,
            "min_width": null,
            "object_fit": null,
            "object_position": null,
            "order": null,
            "overflow": null,
            "overflow_x": null,
            "overflow_y": null,
            "padding": null,
            "right": null,
            "top": null,
            "visibility": null,
            "width": null
          }
        },
        "626caa79e6fc4d9daa64ab4a017ab17a": {
          "model_module": "@jupyter-widgets/base",
          "model_name": "LayoutModel",
          "model_module_version": "1.2.0",
          "state": {
            "_model_module": "@jupyter-widgets/base",
            "_model_module_version": "1.2.0",
            "_model_name": "LayoutModel",
            "_view_count": null,
            "_view_module": "@jupyter-widgets/base",
            "_view_module_version": "1.2.0",
            "_view_name": "LayoutView",
            "align_content": null,
            "align_items": null,
            "align_self": null,
            "border": null,
            "bottom": null,
            "display": null,
            "flex": null,
            "flex_flow": null,
            "grid_area": null,
            "grid_auto_columns": null,
            "grid_auto_flow": null,
            "grid_auto_rows": null,
            "grid_column": null,
            "grid_gap": null,
            "grid_row": null,
            "grid_template_areas": null,
            "grid_template_columns": null,
            "grid_template_rows": null,
            "height": null,
            "justify_content": null,
            "justify_items": null,
            "left": null,
            "margin": null,
            "max_height": null,
            "max_width": null,
            "min_height": null,
            "min_width": null,
            "object_fit": null,
            "object_position": null,
            "order": null,
            "overflow": null,
            "overflow_x": null,
            "overflow_y": null,
            "padding": null,
            "right": null,
            "top": null,
            "visibility": null,
            "width": null
          }
        },
        "d53c6d59e933433fb730c7c5fc0484da": {
          "model_module": "@jupyter-widgets/controls",
          "model_name": "DescriptionStyleModel",
          "model_module_version": "1.5.0",
          "state": {
            "_model_module": "@jupyter-widgets/controls",
            "_model_module_version": "1.5.0",
            "_model_name": "DescriptionStyleModel",
            "_view_count": null,
            "_view_module": "@jupyter-widgets/base",
            "_view_module_version": "1.2.0",
            "_view_name": "StyleView",
            "description_width": ""
          }
        },
        "b641c6c11ce84809904090c5791b3b8b": {
          "model_module": "@jupyter-widgets/base",
          "model_name": "LayoutModel",
          "model_module_version": "1.2.0",
          "state": {
            "_model_module": "@jupyter-widgets/base",
            "_model_module_version": "1.2.0",
            "_model_name": "LayoutModel",
            "_view_count": null,
            "_view_module": "@jupyter-widgets/base",
            "_view_module_version": "1.2.0",
            "_view_name": "LayoutView",
            "align_content": null,
            "align_items": null,
            "align_self": null,
            "border": null,
            "bottom": null,
            "display": null,
            "flex": null,
            "flex_flow": null,
            "grid_area": null,
            "grid_auto_columns": null,
            "grid_auto_flow": null,
            "grid_auto_rows": null,
            "grid_column": null,
            "grid_gap": null,
            "grid_row": null,
            "grid_template_areas": null,
            "grid_template_columns": null,
            "grid_template_rows": null,
            "height": null,
            "justify_content": null,
            "justify_items": null,
            "left": null,
            "margin": null,
            "max_height": null,
            "max_width": null,
            "min_height": null,
            "min_width": null,
            "object_fit": null,
            "object_position": null,
            "order": null,
            "overflow": null,
            "overflow_x": null,
            "overflow_y": null,
            "padding": null,
            "right": null,
            "top": null,
            "visibility": null,
            "width": null
          }
        },
        "866a562fe9a940b2b7c86963e62619e2": {
          "model_module": "@jupyter-widgets/controls",
          "model_name": "ProgressStyleModel",
          "model_module_version": "1.5.0",
          "state": {
            "_model_module": "@jupyter-widgets/controls",
            "_model_module_version": "1.5.0",
            "_model_name": "ProgressStyleModel",
            "_view_count": null,
            "_view_module": "@jupyter-widgets/base",
            "_view_module_version": "1.2.0",
            "_view_name": "StyleView",
            "bar_color": null,
            "description_width": ""
          }
        },
        "c1d6f566d0d244aabc5d4fe04b3aeae3": {
          "model_module": "@jupyter-widgets/base",
          "model_name": "LayoutModel",
          "model_module_version": "1.2.0",
          "state": {
            "_model_module": "@jupyter-widgets/base",
            "_model_module_version": "1.2.0",
            "_model_name": "LayoutModel",
            "_view_count": null,
            "_view_module": "@jupyter-widgets/base",
            "_view_module_version": "1.2.0",
            "_view_name": "LayoutView",
            "align_content": null,
            "align_items": null,
            "align_self": null,
            "border": null,
            "bottom": null,
            "display": null,
            "flex": null,
            "flex_flow": null,
            "grid_area": null,
            "grid_auto_columns": null,
            "grid_auto_flow": null,
            "grid_auto_rows": null,
            "grid_column": null,
            "grid_gap": null,
            "grid_row": null,
            "grid_template_areas": null,
            "grid_template_columns": null,
            "grid_template_rows": null,
            "height": null,
            "justify_content": null,
            "justify_items": null,
            "left": null,
            "margin": null,
            "max_height": null,
            "max_width": null,
            "min_height": null,
            "min_width": null,
            "object_fit": null,
            "object_position": null,
            "order": null,
            "overflow": null,
            "overflow_x": null,
            "overflow_y": null,
            "padding": null,
            "right": null,
            "top": null,
            "visibility": null,
            "width": null
          }
        },
        "5cc823fd343a4eadb61188a089d94030": {
          "model_module": "@jupyter-widgets/controls",
          "model_name": "DescriptionStyleModel",
          "model_module_version": "1.5.0",
          "state": {
            "_model_module": "@jupyter-widgets/controls",
            "_model_module_version": "1.5.0",
            "_model_name": "DescriptionStyleModel",
            "_view_count": null,
            "_view_module": "@jupyter-widgets/base",
            "_view_module_version": "1.2.0",
            "_view_name": "StyleView",
            "description_width": ""
          }
        },
        "6bced8a8d2454368a495d4a2e1129bd6": {
          "model_module": "@jupyter-widgets/controls",
          "model_name": "HBoxModel",
          "model_module_version": "1.5.0",
          "state": {
            "_dom_classes": [],
            "_model_module": "@jupyter-widgets/controls",
            "_model_module_version": "1.5.0",
            "_model_name": "HBoxModel",
            "_view_count": null,
            "_view_module": "@jupyter-widgets/controls",
            "_view_module_version": "1.5.0",
            "_view_name": "HBoxView",
            "box_style": "",
            "children": [
              "IPY_MODEL_a385fe012d7940a2ab60d24e71ca36f7",
              "IPY_MODEL_15fe24328a284de38493da7c4f622103",
              "IPY_MODEL_574e41293fb1434daba2da866ee40278"
            ],
            "layout": "IPY_MODEL_920b1899036d419facc325807b10e8a1"
          }
        },
        "a385fe012d7940a2ab60d24e71ca36f7": {
          "model_module": "@jupyter-widgets/controls",
          "model_name": "HTMLModel",
          "model_module_version": "1.5.0",
          "state": {
            "_dom_classes": [],
            "_model_module": "@jupyter-widgets/controls",
            "_model_module_version": "1.5.0",
            "_model_name": "HTMLModel",
            "_view_count": null,
            "_view_module": "@jupyter-widgets/controls",
            "_view_module_version": "1.5.0",
            "_view_name": "HTMLView",
            "description": "",
            "description_tooltip": null,
            "layout": "IPY_MODEL_ff9668c214fa47ff972a8b8152743ff0",
            "placeholder": "​",
            "style": "IPY_MODEL_ab4a5e6da5ea4785ade1516342e01faa",
            "value": "100%"
          }
        },
        "15fe24328a284de38493da7c4f622103": {
          "model_module": "@jupyter-widgets/controls",
          "model_name": "FloatProgressModel",
          "model_module_version": "1.5.0",
          "state": {
            "_dom_classes": [],
            "_model_module": "@jupyter-widgets/controls",
            "_model_module_version": "1.5.0",
            "_model_name": "FloatProgressModel",
            "_view_count": null,
            "_view_module": "@jupyter-widgets/controls",
            "_view_module_version": "1.5.0",
            "_view_name": "ProgressView",
            "bar_style": "success",
            "description": "",
            "description_tooltip": null,
            "layout": "IPY_MODEL_cf3f58d0608e4a8da5695ff4b7b00d55",
            "max": 4305,
            "min": 0,
            "orientation": "horizontal",
            "style": "IPY_MODEL_464069e437814d30816dacf4f442376a",
            "value": 4305
          }
        },
        "574e41293fb1434daba2da866ee40278": {
          "model_module": "@jupyter-widgets/controls",
          "model_name": "HTMLModel",
          "model_module_version": "1.5.0",
          "state": {
            "_dom_classes": [],
            "_model_module": "@jupyter-widgets/controls",
            "_model_module_version": "1.5.0",
            "_model_name": "HTMLModel",
            "_view_count": null,
            "_view_module": "@jupyter-widgets/controls",
            "_view_module_version": "1.5.0",
            "_view_name": "HTMLView",
            "description": "",
            "description_tooltip": null,
            "layout": "IPY_MODEL_30280f94e9cc4799a79a50c1516c9435",
            "placeholder": "​",
            "style": "IPY_MODEL_cce0cd1a73104244b26eacaa02dd009a",
            "value": " 4305/4305 [01:32&lt;00:00, 63.12it/s]"
          }
        },
        "920b1899036d419facc325807b10e8a1": {
          "model_module": "@jupyter-widgets/base",
          "model_name": "LayoutModel",
          "model_module_version": "1.2.0",
          "state": {
            "_model_module": "@jupyter-widgets/base",
            "_model_module_version": "1.2.0",
            "_model_name": "LayoutModel",
            "_view_count": null,
            "_view_module": "@jupyter-widgets/base",
            "_view_module_version": "1.2.0",
            "_view_name": "LayoutView",
            "align_content": null,
            "align_items": null,
            "align_self": null,
            "border": null,
            "bottom": null,
            "display": null,
            "flex": null,
            "flex_flow": null,
            "grid_area": null,
            "grid_auto_columns": null,
            "grid_auto_flow": null,
            "grid_auto_rows": null,
            "grid_column": null,
            "grid_gap": null,
            "grid_row": null,
            "grid_template_areas": null,
            "grid_template_columns": null,
            "grid_template_rows": null,
            "height": null,
            "justify_content": null,
            "justify_items": null,
            "left": null,
            "margin": null,
            "max_height": null,
            "max_width": null,
            "min_height": null,
            "min_width": null,
            "object_fit": null,
            "object_position": null,
            "order": null,
            "overflow": null,
            "overflow_x": null,
            "overflow_y": null,
            "padding": null,
            "right": null,
            "top": null,
            "visibility": null,
            "width": null
          }
        },
        "ff9668c214fa47ff972a8b8152743ff0": {
          "model_module": "@jupyter-widgets/base",
          "model_name": "LayoutModel",
          "model_module_version": "1.2.0",
          "state": {
            "_model_module": "@jupyter-widgets/base",
            "_model_module_version": "1.2.0",
            "_model_name": "LayoutModel",
            "_view_count": null,
            "_view_module": "@jupyter-widgets/base",
            "_view_module_version": "1.2.0",
            "_view_name": "LayoutView",
            "align_content": null,
            "align_items": null,
            "align_self": null,
            "border": null,
            "bottom": null,
            "display": null,
            "flex": null,
            "flex_flow": null,
            "grid_area": null,
            "grid_auto_columns": null,
            "grid_auto_flow": null,
            "grid_auto_rows": null,
            "grid_column": null,
            "grid_gap": null,
            "grid_row": null,
            "grid_template_areas": null,
            "grid_template_columns": null,
            "grid_template_rows": null,
            "height": null,
            "justify_content": null,
            "justify_items": null,
            "left": null,
            "margin": null,
            "max_height": null,
            "max_width": null,
            "min_height": null,
            "min_width": null,
            "object_fit": null,
            "object_position": null,
            "order": null,
            "overflow": null,
            "overflow_x": null,
            "overflow_y": null,
            "padding": null,
            "right": null,
            "top": null,
            "visibility": null,
            "width": null
          }
        },
        "ab4a5e6da5ea4785ade1516342e01faa": {
          "model_module": "@jupyter-widgets/controls",
          "model_name": "DescriptionStyleModel",
          "model_module_version": "1.5.0",
          "state": {
            "_model_module": "@jupyter-widgets/controls",
            "_model_module_version": "1.5.0",
            "_model_name": "DescriptionStyleModel",
            "_view_count": null,
            "_view_module": "@jupyter-widgets/base",
            "_view_module_version": "1.2.0",
            "_view_name": "StyleView",
            "description_width": ""
          }
        },
        "cf3f58d0608e4a8da5695ff4b7b00d55": {
          "model_module": "@jupyter-widgets/base",
          "model_name": "LayoutModel",
          "model_module_version": "1.2.0",
          "state": {
            "_model_module": "@jupyter-widgets/base",
            "_model_module_version": "1.2.0",
            "_model_name": "LayoutModel",
            "_view_count": null,
            "_view_module": "@jupyter-widgets/base",
            "_view_module_version": "1.2.0",
            "_view_name": "LayoutView",
            "align_content": null,
            "align_items": null,
            "align_self": null,
            "border": null,
            "bottom": null,
            "display": null,
            "flex": null,
            "flex_flow": null,
            "grid_area": null,
            "grid_auto_columns": null,
            "grid_auto_flow": null,
            "grid_auto_rows": null,
            "grid_column": null,
            "grid_gap": null,
            "grid_row": null,
            "grid_template_areas": null,
            "grid_template_columns": null,
            "grid_template_rows": null,
            "height": null,
            "justify_content": null,
            "justify_items": null,
            "left": null,
            "margin": null,
            "max_height": null,
            "max_width": null,
            "min_height": null,
            "min_width": null,
            "object_fit": null,
            "object_position": null,
            "order": null,
            "overflow": null,
            "overflow_x": null,
            "overflow_y": null,
            "padding": null,
            "right": null,
            "top": null,
            "visibility": null,
            "width": null
          }
        },
        "464069e437814d30816dacf4f442376a": {
          "model_module": "@jupyter-widgets/controls",
          "model_name": "ProgressStyleModel",
          "model_module_version": "1.5.0",
          "state": {
            "_model_module": "@jupyter-widgets/controls",
            "_model_module_version": "1.5.0",
            "_model_name": "ProgressStyleModel",
            "_view_count": null,
            "_view_module": "@jupyter-widgets/base",
            "_view_module_version": "1.2.0",
            "_view_name": "StyleView",
            "bar_color": null,
            "description_width": ""
          }
        },
        "30280f94e9cc4799a79a50c1516c9435": {
          "model_module": "@jupyter-widgets/base",
          "model_name": "LayoutModel",
          "model_module_version": "1.2.0",
          "state": {
            "_model_module": "@jupyter-widgets/base",
            "_model_module_version": "1.2.0",
            "_model_name": "LayoutModel",
            "_view_count": null,
            "_view_module": "@jupyter-widgets/base",
            "_view_module_version": "1.2.0",
            "_view_name": "LayoutView",
            "align_content": null,
            "align_items": null,
            "align_self": null,
            "border": null,
            "bottom": null,
            "display": null,
            "flex": null,
            "flex_flow": null,
            "grid_area": null,
            "grid_auto_columns": null,
            "grid_auto_flow": null,
            "grid_auto_rows": null,
            "grid_column": null,
            "grid_gap": null,
            "grid_row": null,
            "grid_template_areas": null,
            "grid_template_columns": null,
            "grid_template_rows": null,
            "height": null,
            "justify_content": null,
            "justify_items": null,
            "left": null,
            "margin": null,
            "max_height": null,
            "max_width": null,
            "min_height": null,
            "min_width": null,
            "object_fit": null,
            "object_position": null,
            "order": null,
            "overflow": null,
            "overflow_x": null,
            "overflow_y": null,
            "padding": null,
            "right": null,
            "top": null,
            "visibility": null,
            "width": null
          }
        },
        "cce0cd1a73104244b26eacaa02dd009a": {
          "model_module": "@jupyter-widgets/controls",
          "model_name": "DescriptionStyleModel",
          "model_module_version": "1.5.0",
          "state": {
            "_model_module": "@jupyter-widgets/controls",
            "_model_module_version": "1.5.0",
            "_model_name": "DescriptionStyleModel",
            "_view_count": null,
            "_view_module": "@jupyter-widgets/base",
            "_view_module_version": "1.2.0",
            "_view_name": "StyleView",
            "description_width": ""
          }
        },
        "1fbcc3fca9d04d25852a6917a4bb57c1": {
          "model_module": "@jupyter-widgets/controls",
          "model_name": "HBoxModel",
          "model_module_version": "1.5.0",
          "state": {
            "_dom_classes": [],
            "_model_module": "@jupyter-widgets/controls",
            "_model_module_version": "1.5.0",
            "_model_name": "HBoxModel",
            "_view_count": null,
            "_view_module": "@jupyter-widgets/controls",
            "_view_module_version": "1.5.0",
            "_view_name": "HBoxView",
            "box_style": "",
            "children": [
              "IPY_MODEL_3e96c42ef8d548a3a8316bd5ddb96fbd",
              "IPY_MODEL_ae05930ebee14ce382058af454eb9b80",
              "IPY_MODEL_60e5e2272ed14f1abb1cc32554de8313"
            ],
            "layout": "IPY_MODEL_962359517d7f4ec7a9b6fe2fbabbe91c"
          }
        },
        "3e96c42ef8d548a3a8316bd5ddb96fbd": {
          "model_module": "@jupyter-widgets/controls",
          "model_name": "HTMLModel",
          "model_module_version": "1.5.0",
          "state": {
            "_dom_classes": [],
            "_model_module": "@jupyter-widgets/controls",
            "_model_module_version": "1.5.0",
            "_model_name": "HTMLModel",
            "_view_count": null,
            "_view_module": "@jupyter-widgets/controls",
            "_view_module_version": "1.5.0",
            "_view_name": "HTMLView",
            "description": "",
            "description_tooltip": null,
            "layout": "IPY_MODEL_82fc2c9e0aae4c7c85bad69b2c2ee77d",
            "placeholder": "​",
            "style": "IPY_MODEL_fe458a4a183f444687236b9ae20066b2",
            "value": "100%"
          }
        },
        "ae05930ebee14ce382058af454eb9b80": {
          "model_module": "@jupyter-widgets/controls",
          "model_name": "FloatProgressModel",
          "model_module_version": "1.5.0",
          "state": {
            "_dom_classes": [],
            "_model_module": "@jupyter-widgets/controls",
            "_model_module_version": "1.5.0",
            "_model_name": "FloatProgressModel",
            "_view_count": null,
            "_view_module": "@jupyter-widgets/controls",
            "_view_module_version": "1.5.0",
            "_view_name": "ProgressView",
            "bar_style": "success",
            "description": "",
            "description_tooltip": null,
            "layout": "IPY_MODEL_2235a407d6af4eb69f4e6998a5588d4d",
            "max": 2984,
            "min": 0,
            "orientation": "horizontal",
            "style": "IPY_MODEL_ec28347aa9054048ae624ef8cc062d79",
            "value": 2984
          }
        },
        "60e5e2272ed14f1abb1cc32554de8313": {
          "model_module": "@jupyter-widgets/controls",
          "model_name": "HTMLModel",
          "model_module_version": "1.5.0",
          "state": {
            "_dom_classes": [],
            "_model_module": "@jupyter-widgets/controls",
            "_model_module_version": "1.5.0",
            "_model_name": "HTMLModel",
            "_view_count": null,
            "_view_module": "@jupyter-widgets/controls",
            "_view_module_version": "1.5.0",
            "_view_name": "HTMLView",
            "description": "",
            "description_tooltip": null,
            "layout": "IPY_MODEL_39b43e81ff8a4730a43322debc462afd",
            "placeholder": "​",
            "style": "IPY_MODEL_6670e082a83a4b489c0adbe02fd6fe92",
            "value": " 2984/2984 [00:59&lt;00:00, 61.73it/s]"
          }
        },
        "962359517d7f4ec7a9b6fe2fbabbe91c": {
          "model_module": "@jupyter-widgets/base",
          "model_name": "LayoutModel",
          "model_module_version": "1.2.0",
          "state": {
            "_model_module": "@jupyter-widgets/base",
            "_model_module_version": "1.2.0",
            "_model_name": "LayoutModel",
            "_view_count": null,
            "_view_module": "@jupyter-widgets/base",
            "_view_module_version": "1.2.0",
            "_view_name": "LayoutView",
            "align_content": null,
            "align_items": null,
            "align_self": null,
            "border": null,
            "bottom": null,
            "display": null,
            "flex": null,
            "flex_flow": null,
            "grid_area": null,
            "grid_auto_columns": null,
            "grid_auto_flow": null,
            "grid_auto_rows": null,
            "grid_column": null,
            "grid_gap": null,
            "grid_row": null,
            "grid_template_areas": null,
            "grid_template_columns": null,
            "grid_template_rows": null,
            "height": null,
            "justify_content": null,
            "justify_items": null,
            "left": null,
            "margin": null,
            "max_height": null,
            "max_width": null,
            "min_height": null,
            "min_width": null,
            "object_fit": null,
            "object_position": null,
            "order": null,
            "overflow": null,
            "overflow_x": null,
            "overflow_y": null,
            "padding": null,
            "right": null,
            "top": null,
            "visibility": null,
            "width": null
          }
        },
        "82fc2c9e0aae4c7c85bad69b2c2ee77d": {
          "model_module": "@jupyter-widgets/base",
          "model_name": "LayoutModel",
          "model_module_version": "1.2.0",
          "state": {
            "_model_module": "@jupyter-widgets/base",
            "_model_module_version": "1.2.0",
            "_model_name": "LayoutModel",
            "_view_count": null,
            "_view_module": "@jupyter-widgets/base",
            "_view_module_version": "1.2.0",
            "_view_name": "LayoutView",
            "align_content": null,
            "align_items": null,
            "align_self": null,
            "border": null,
            "bottom": null,
            "display": null,
            "flex": null,
            "flex_flow": null,
            "grid_area": null,
            "grid_auto_columns": null,
            "grid_auto_flow": null,
            "grid_auto_rows": null,
            "grid_column": null,
            "grid_gap": null,
            "grid_row": null,
            "grid_template_areas": null,
            "grid_template_columns": null,
            "grid_template_rows": null,
            "height": null,
            "justify_content": null,
            "justify_items": null,
            "left": null,
            "margin": null,
            "max_height": null,
            "max_width": null,
            "min_height": null,
            "min_width": null,
            "object_fit": null,
            "object_position": null,
            "order": null,
            "overflow": null,
            "overflow_x": null,
            "overflow_y": null,
            "padding": null,
            "right": null,
            "top": null,
            "visibility": null,
            "width": null
          }
        },
        "fe458a4a183f444687236b9ae20066b2": {
          "model_module": "@jupyter-widgets/controls",
          "model_name": "DescriptionStyleModel",
          "model_module_version": "1.5.0",
          "state": {
            "_model_module": "@jupyter-widgets/controls",
            "_model_module_version": "1.5.0",
            "_model_name": "DescriptionStyleModel",
            "_view_count": null,
            "_view_module": "@jupyter-widgets/base",
            "_view_module_version": "1.2.0",
            "_view_name": "StyleView",
            "description_width": ""
          }
        },
        "2235a407d6af4eb69f4e6998a5588d4d": {
          "model_module": "@jupyter-widgets/base",
          "model_name": "LayoutModel",
          "model_module_version": "1.2.0",
          "state": {
            "_model_module": "@jupyter-widgets/base",
            "_model_module_version": "1.2.0",
            "_model_name": "LayoutModel",
            "_view_count": null,
            "_view_module": "@jupyter-widgets/base",
            "_view_module_version": "1.2.0",
            "_view_name": "LayoutView",
            "align_content": null,
            "align_items": null,
            "align_self": null,
            "border": null,
            "bottom": null,
            "display": null,
            "flex": null,
            "flex_flow": null,
            "grid_area": null,
            "grid_auto_columns": null,
            "grid_auto_flow": null,
            "grid_auto_rows": null,
            "grid_column": null,
            "grid_gap": null,
            "grid_row": null,
            "grid_template_areas": null,
            "grid_template_columns": null,
            "grid_template_rows": null,
            "height": null,
            "justify_content": null,
            "justify_items": null,
            "left": null,
            "margin": null,
            "max_height": null,
            "max_width": null,
            "min_height": null,
            "min_width": null,
            "object_fit": null,
            "object_position": null,
            "order": null,
            "overflow": null,
            "overflow_x": null,
            "overflow_y": null,
            "padding": null,
            "right": null,
            "top": null,
            "visibility": null,
            "width": null
          }
        },
        "ec28347aa9054048ae624ef8cc062d79": {
          "model_module": "@jupyter-widgets/controls",
          "model_name": "ProgressStyleModel",
          "model_module_version": "1.5.0",
          "state": {
            "_model_module": "@jupyter-widgets/controls",
            "_model_module_version": "1.5.0",
            "_model_name": "ProgressStyleModel",
            "_view_count": null,
            "_view_module": "@jupyter-widgets/base",
            "_view_module_version": "1.2.0",
            "_view_name": "StyleView",
            "bar_color": null,
            "description_width": ""
          }
        },
        "39b43e81ff8a4730a43322debc462afd": {
          "model_module": "@jupyter-widgets/base",
          "model_name": "LayoutModel",
          "model_module_version": "1.2.0",
          "state": {
            "_model_module": "@jupyter-widgets/base",
            "_model_module_version": "1.2.0",
            "_model_name": "LayoutModel",
            "_view_count": null,
            "_view_module": "@jupyter-widgets/base",
            "_view_module_version": "1.2.0",
            "_view_name": "LayoutView",
            "align_content": null,
            "align_items": null,
            "align_self": null,
            "border": null,
            "bottom": null,
            "display": null,
            "flex": null,
            "flex_flow": null,
            "grid_area": null,
            "grid_auto_columns": null,
            "grid_auto_flow": null,
            "grid_auto_rows": null,
            "grid_column": null,
            "grid_gap": null,
            "grid_row": null,
            "grid_template_areas": null,
            "grid_template_columns": null,
            "grid_template_rows": null,
            "height": null,
            "justify_content": null,
            "justify_items": null,
            "left": null,
            "margin": null,
            "max_height": null,
            "max_width": null,
            "min_height": null,
            "min_width": null,
            "object_fit": null,
            "object_position": null,
            "order": null,
            "overflow": null,
            "overflow_x": null,
            "overflow_y": null,
            "padding": null,
            "right": null,
            "top": null,
            "visibility": null,
            "width": null
          }
        },
        "6670e082a83a4b489c0adbe02fd6fe92": {
          "model_module": "@jupyter-widgets/controls",
          "model_name": "DescriptionStyleModel",
          "model_module_version": "1.5.0",
          "state": {
            "_model_module": "@jupyter-widgets/controls",
            "_model_module_version": "1.5.0",
            "_model_name": "DescriptionStyleModel",
            "_view_count": null,
            "_view_module": "@jupyter-widgets/base",
            "_view_module_version": "1.2.0",
            "_view_name": "StyleView",
            "description_width": ""
          }
        }
      }
    }
  },
  "nbformat": 4,
  "nbformat_minor": 5
}